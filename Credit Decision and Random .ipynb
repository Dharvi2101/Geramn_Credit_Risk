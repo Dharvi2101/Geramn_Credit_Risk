{
 "cells": [
  {
   "cell_type": "markdown",
   "id": "c87213b6",
   "metadata": {},
   "source": [
    "# Decision Tree"
   ]
  },
  {
   "cell_type": "markdown",
   "id": "24ecbbce",
   "metadata": {},
   "source": [
    "# Import nesseccary library"
   ]
  },
  {
   "cell_type": "code",
   "execution_count": 1,
   "id": "455c5d76",
   "metadata": {},
   "outputs": [],
   "source": [
    "#IMPORT LIBRARIES\n",
    "\n",
    "# import 'Pandas' \n",
    "import pandas as pd \n",
    "\n",
    "# import 'Numpy' \n",
    "import numpy as np\n",
    "\n",
    "# import subpackage of Matplotlib\n",
    "import matplotlib.pyplot as plt\n",
    "from matplotlib.colors import ListedColormap\n",
    "\n",
    "# import 'Seaborn' \n",
    "import seaborn as sns\n",
    "\n",
    "# to suppress warnings \n",
    "from warnings import filterwarnings\n",
    "filterwarnings('ignore')\n",
    "\n",
    "# display all columns of the dataframe\n",
    "pd.options.display.max_columns = None\n",
    "\n",
    "# display all rows of the dataframe\n",
    "pd.options.display.max_rows = None\n",
    " \n",
    "# to display the float values upto 6 decimal places     \n",
    "pd.options.display.float_format = '{:.6f}'.format\n",
    "\n",
    "# import train-test split \n",
    "from sklearn.model_selection import train_test_split\n",
    "\n",
    "# import various functions from statsmodels\n",
    "import statsmodels\n",
    "import statsmodels.api as sm\n",
    "\n",
    "# import StandardScaler to perform scaling\n",
    "from sklearn.preprocessing import StandardScaler \n",
    "\n",
    "# import various functions from sklearn \n",
    "from sklearn import metrics\n",
    "from sklearn.linear_model import LogisticRegression\n",
    "from sklearn.metrics import classification_report\n",
    "from sklearn.metrics import cohen_kappa_score\n",
    "from sklearn.metrics import confusion_matrix\n",
    "from sklearn.metrics import roc_curve\n",
    "from sklearn.metrics import accuracy_score\n",
    "\n",
    "# import function to perform feature selection\n",
    "from sklearn.feature_selection import RFE"
   ]
  },
  {
   "cell_type": "markdown",
   "id": "9ad36d43",
   "metadata": {},
   "source": [
    "# Credit Risk\n",
    "Credit risk is the probable risk of loss resulting from a borrower's failure to repay a loan or meet contractual obligations. If a company offers credit to its client, then there is a risk that its client may not pay their invoices.\n",
    "\n",
    "When a bank receives a loan application, they have to make a decision regarding whether to proceed with the loan approval or not, based on the applicant's profile, and\n",
    "\n",
    "**Types of credit risk**\n",
    "# Good Risk\n",
    "An investment that one believes is likely to be profitable. The term most often refers to a loan made to a creditworthy person or company. Good risks are considered exceptionally likely to be repaid.\n",
    "\n",
    "# Bad Risk\n",
    "A loan that is unlikely to be repaid because of bad credit history,insufficient income,or some other reson.A bad risk increases the risk to the lender and the likelihood of default on the part of the borrower."
   ]
  },
  {
   "cell_type": "markdown",
   "id": "7da6495d",
   "metadata": {},
   "source": [
    "# Problem Statment\n",
    "This German Credit score data, In this dataset each entry represent a person who take a credit by bank,Each person classified as good or bad credit risk according to the set of attributes."
   ]
  },
  {
   "cell_type": "code",
   "execution_count": 2,
   "id": "a8618456",
   "metadata": {},
   "outputs": [
    {
     "data": {
      "text/html": [
       "<div>\n",
       "<style scoped>\n",
       "    .dataframe tbody tr th:only-of-type {\n",
       "        vertical-align: middle;\n",
       "    }\n",
       "\n",
       "    .dataframe tbody tr th {\n",
       "        vertical-align: top;\n",
       "    }\n",
       "\n",
       "    .dataframe thead th {\n",
       "        text-align: right;\n",
       "    }\n",
       "</style>\n",
       "<table border=\"1\" class=\"dataframe\">\n",
       "  <thead>\n",
       "    <tr style=\"text-align: right;\">\n",
       "      <th></th>\n",
       "      <th>checking_balance</th>\n",
       "      <th>months_loan_duration</th>\n",
       "      <th>credit_history</th>\n",
       "      <th>purpose</th>\n",
       "      <th>amount</th>\n",
       "      <th>savings_balance</th>\n",
       "      <th>employment_duration</th>\n",
       "      <th>percent_of_income</th>\n",
       "      <th>years_at_residence</th>\n",
       "      <th>age</th>\n",
       "      <th>other_credit</th>\n",
       "      <th>housing</th>\n",
       "      <th>existing_loans_count</th>\n",
       "      <th>job</th>\n",
       "      <th>dependents</th>\n",
       "      <th>phone</th>\n",
       "      <th>default</th>\n",
       "    </tr>\n",
       "  </thead>\n",
       "  <tbody>\n",
       "    <tr>\n",
       "      <th>0</th>\n",
       "      <td>&lt; 0 DM</td>\n",
       "      <td>6</td>\n",
       "      <td>critical</td>\n",
       "      <td>furniture/appliances</td>\n",
       "      <td>1169</td>\n",
       "      <td>unknown</td>\n",
       "      <td>&gt; 7 years</td>\n",
       "      <td>4</td>\n",
       "      <td>4</td>\n",
       "      <td>67</td>\n",
       "      <td>none</td>\n",
       "      <td>own</td>\n",
       "      <td>2</td>\n",
       "      <td>skilled</td>\n",
       "      <td>1</td>\n",
       "      <td>yes</td>\n",
       "      <td>no</td>\n",
       "    </tr>\n",
       "    <tr>\n",
       "      <th>1</th>\n",
       "      <td>1 - 200 DM</td>\n",
       "      <td>48</td>\n",
       "      <td>good</td>\n",
       "      <td>furniture/appliances</td>\n",
       "      <td>5951</td>\n",
       "      <td>&lt; 100 DM</td>\n",
       "      <td>1 - 4 years</td>\n",
       "      <td>2</td>\n",
       "      <td>2</td>\n",
       "      <td>22</td>\n",
       "      <td>none</td>\n",
       "      <td>own</td>\n",
       "      <td>1</td>\n",
       "      <td>skilled</td>\n",
       "      <td>1</td>\n",
       "      <td>no</td>\n",
       "      <td>yes</td>\n",
       "    </tr>\n",
       "    <tr>\n",
       "      <th>2</th>\n",
       "      <td>unknown</td>\n",
       "      <td>12</td>\n",
       "      <td>critical</td>\n",
       "      <td>education</td>\n",
       "      <td>2096</td>\n",
       "      <td>&lt; 100 DM</td>\n",
       "      <td>4 - 7 years</td>\n",
       "      <td>2</td>\n",
       "      <td>3</td>\n",
       "      <td>49</td>\n",
       "      <td>none</td>\n",
       "      <td>own</td>\n",
       "      <td>1</td>\n",
       "      <td>unskilled</td>\n",
       "      <td>2</td>\n",
       "      <td>no</td>\n",
       "      <td>no</td>\n",
       "    </tr>\n",
       "    <tr>\n",
       "      <th>3</th>\n",
       "      <td>&lt; 0 DM</td>\n",
       "      <td>42</td>\n",
       "      <td>good</td>\n",
       "      <td>furniture/appliances</td>\n",
       "      <td>7882</td>\n",
       "      <td>&lt; 100 DM</td>\n",
       "      <td>4 - 7 years</td>\n",
       "      <td>2</td>\n",
       "      <td>4</td>\n",
       "      <td>45</td>\n",
       "      <td>none</td>\n",
       "      <td>other</td>\n",
       "      <td>1</td>\n",
       "      <td>skilled</td>\n",
       "      <td>2</td>\n",
       "      <td>no</td>\n",
       "      <td>no</td>\n",
       "    </tr>\n",
       "    <tr>\n",
       "      <th>4</th>\n",
       "      <td>&lt; 0 DM</td>\n",
       "      <td>24</td>\n",
       "      <td>poor</td>\n",
       "      <td>car</td>\n",
       "      <td>4870</td>\n",
       "      <td>&lt; 100 DM</td>\n",
       "      <td>1 - 4 years</td>\n",
       "      <td>3</td>\n",
       "      <td>4</td>\n",
       "      <td>53</td>\n",
       "      <td>none</td>\n",
       "      <td>other</td>\n",
       "      <td>2</td>\n",
       "      <td>skilled</td>\n",
       "      <td>2</td>\n",
       "      <td>no</td>\n",
       "      <td>yes</td>\n",
       "    </tr>\n",
       "  </tbody>\n",
       "</table>\n",
       "</div>"
      ],
      "text/plain": [
       "  checking_balance  months_loan_duration credit_history               purpose  \\\n",
       "0           < 0 DM                     6       critical  furniture/appliances   \n",
       "1       1 - 200 DM                    48           good  furniture/appliances   \n",
       "2          unknown                    12       critical             education   \n",
       "3           < 0 DM                    42           good  furniture/appliances   \n",
       "4           < 0 DM                    24           poor                   car   \n",
       "\n",
       "   amount savings_balance employment_duration  percent_of_income  \\\n",
       "0    1169         unknown           > 7 years                  4   \n",
       "1    5951        < 100 DM         1 - 4 years                  2   \n",
       "2    2096        < 100 DM         4 - 7 years                  2   \n",
       "3    7882        < 100 DM         4 - 7 years                  2   \n",
       "4    4870        < 100 DM         1 - 4 years                  3   \n",
       "\n",
       "   years_at_residence  age other_credit housing  existing_loans_count  \\\n",
       "0                   4   67         none     own                     2   \n",
       "1                   2   22         none     own                     1   \n",
       "2                   3   49         none     own                     1   \n",
       "3                   4   45         none   other                     1   \n",
       "4                   4   53         none   other                     2   \n",
       "\n",
       "         job  dependents phone default  \n",
       "0    skilled           1   yes      no  \n",
       "1    skilled           1    no     yes  \n",
       "2  unskilled           2    no      no  \n",
       "3    skilled           2    no      no  \n",
       "4    skilled           2    no     yes  "
      ]
     },
     "execution_count": 2,
     "metadata": {},
     "output_type": "execute_result"
    }
   ],
   "source": [
    "df_credit=pd.read_csv(\"F:\\Python\\credit.csv\")\n",
    "df_credit.head()"
   ]
  },
  {
   "cell_type": "markdown",
   "id": "175e5cec",
   "metadata": {},
   "source": [
    "# Data Overview"
   ]
  },
  {
   "cell_type": "markdown",
   "id": "5a22269e",
   "metadata": {},
   "source": [
    "**checking_balance:**status of exisiting checking balance(DM or D-mark--Deutsche mark it's official currency of west germany)\n",
    "\n",
    "- 1 DEM- 41.8338 INR\n",
    "- '< 0 DM', '1 - 200 DM', 'unknown', '> 200 DM'/salary at least one year\n",
    "\n",
    "**months_loan_duration:**Loan Duration in month\n",
    "\n",
    "**credit_history:**Credit history\n",
    "\n",
    "- 'critical-other credits existing(not at this bank)', \n",
    "- 'poor-delay in paying off in the past',\n",
    "- 'good-existing credits paid back duly till now',\n",
    "- 'very good-all credits at this bank paid back duly'\n",
    "- 'perfect-no credits taken/all credits paid back duly', \n",
    " \n",
    "**purpose:**Purpose of loan\n",
    "\n",
    "- 'furniture/appliances', 'education', 'car', 'business','renovations', 'car0'\n",
    "\n",
    "**amount:**Credit amount(that amount paid to the bank or company)\n",
    "\n",
    "**savings_balance:**Saving account balance\n",
    "\n",
    "- 'unknown', '< 100 DM', '500 - 1000 DM', '> 1000 DM','100 - 500 DM'\n",
    "\n",
    "**employment_duration:**Present employment since\n",
    "\n",
    "- '> 7 years', '1 - 4 years', '4 - 7 years', 'unemployed','< 1 year'\n",
    "\n",
    "**percent_of_income:**Installment rate in percentage of disposable income(disposable income is the amount of money left to spend and save after income tax has been calculated)(it ensure that your total outgo on EMIs does not exceed certain percentage limit of your take salary/income)\n",
    "\n",
    "- 1 = >= 35 %\n",
    "- 2 = 25 <= … < 35%\n",
    "- 3 = 20 <= … < 25%\n",
    "- 4 = < 20%\n",
    "\n",
    "**years_at_residence:**Year of residence\n",
    "\n",
    "- 1= < 1 yr \n",
    "- 2 = 1 <= … < 4 yrs\n",
    "- 3 = 4 <= … < 7 yrs \n",
    "- 4 = >= 7 yrs\n",
    "\n",
    "\n",
    "**age:** Age in years\n",
    "\n",
    "**other_credit:**Other installment plans\n",
    "\n",
    "- 'none', 'bank', 'store'\n",
    "\n",
    "**housing:**House status\n",
    "\n",
    "- 'own', 'other', 'rent'\n",
    "\n",
    "**existing_loans_count:**Number of existing loan installment\n",
    "\n",
    "- 1 = 1\n",
    "- 2 = 2-3 \n",
    "- 3 = 4-5 \n",
    "- 4 = >= 6\n",
    "\n",
    "**job:**job status\n",
    "\n",
    "- 'skilled', 'unskilled', 'management', 'unemployed'\n",
    "\n",
    "**dependents:**Number of people being liable to provide maintenance for(the maintenance law in india lays down the duty of a man to provide maintenance to his parents to his parents,wife, and children when they unable to maintenance themselves)\n",
    "- Number of persons who financially depend on the debtor\n",
    "\n",
    "- 1 = 3 or more \n",
    "- 2 = 0 to 2\n",
    "\n",
    "**phone:**Phone or not\n",
    "\n",
    "- yes,no\n",
    "\n",
    "**default:**Cost matrix(Risk)-(No)Good Risk -(YES)Bad Risk"
   ]
  },
  {
   "cell_type": "code",
   "execution_count": 3,
   "id": "94ccdc94",
   "metadata": {},
   "outputs": [
    {
     "data": {
      "text/plain": [
       "(1000, 17)"
      ]
     },
     "execution_count": 3,
     "metadata": {},
     "output_type": "execute_result"
    }
   ],
   "source": [
    "df_credit.shape"
   ]
  },
  {
   "cell_type": "markdown",
   "id": "367ee89d",
   "metadata": {},
   "source": [
    "**Interpretation:**The dataset contains 1000 row and 17 attributes."
   ]
  },
  {
   "cell_type": "code",
   "execution_count": 3,
   "id": "09db1bad",
   "metadata": {},
   "outputs": [
    {
     "data": {
      "text/html": [
       "<div>\n",
       "<style scoped>\n",
       "    .dataframe tbody tr th:only-of-type {\n",
       "        vertical-align: middle;\n",
       "    }\n",
       "\n",
       "    .dataframe tbody tr th {\n",
       "        vertical-align: top;\n",
       "    }\n",
       "\n",
       "    .dataframe thead th {\n",
       "        text-align: right;\n",
       "    }\n",
       "</style>\n",
       "<table border=\"1\" class=\"dataframe\">\n",
       "  <thead>\n",
       "    <tr style=\"text-align: right;\">\n",
       "      <th></th>\n",
       "      <th>Checking_Balance</th>\n",
       "      <th>Loan_Duration_In_Month</th>\n",
       "      <th>Credit_History</th>\n",
       "      <th>Loan_Purpose</th>\n",
       "      <th>Credit_Amount</th>\n",
       "      <th>Saving_Account_Balance</th>\n",
       "      <th>Present_Employment_Since</th>\n",
       "      <th>Installment_Rent_In_Percent_Of_Income</th>\n",
       "      <th>Present_Residual_Since</th>\n",
       "      <th>Age</th>\n",
       "      <th>Other_Installment_Plans</th>\n",
       "      <th>Housing_Status</th>\n",
       "      <th>Number_Of_Existing_Loan_Installment</th>\n",
       "      <th>Job</th>\n",
       "      <th>Number_Of_Person_Financially_Depend_to_debtor</th>\n",
       "      <th>Phone_Have_Or_Not</th>\n",
       "      <th>Credit_Risk</th>\n",
       "    </tr>\n",
       "  </thead>\n",
       "  <tbody>\n",
       "    <tr>\n",
       "      <th>0</th>\n",
       "      <td>&lt; 0 DM</td>\n",
       "      <td>6</td>\n",
       "      <td>critical</td>\n",
       "      <td>furniture/appliances</td>\n",
       "      <td>1169</td>\n",
       "      <td>unknown</td>\n",
       "      <td>&gt; 7 years</td>\n",
       "      <td>4</td>\n",
       "      <td>4</td>\n",
       "      <td>67</td>\n",
       "      <td>none</td>\n",
       "      <td>own</td>\n",
       "      <td>2</td>\n",
       "      <td>skilled</td>\n",
       "      <td>1</td>\n",
       "      <td>yes</td>\n",
       "      <td>no</td>\n",
       "    </tr>\n",
       "    <tr>\n",
       "      <th>1</th>\n",
       "      <td>1 - 200 DM</td>\n",
       "      <td>48</td>\n",
       "      <td>good</td>\n",
       "      <td>furniture/appliances</td>\n",
       "      <td>5951</td>\n",
       "      <td>&lt; 100 DM</td>\n",
       "      <td>1 - 4 years</td>\n",
       "      <td>2</td>\n",
       "      <td>2</td>\n",
       "      <td>22</td>\n",
       "      <td>none</td>\n",
       "      <td>own</td>\n",
       "      <td>1</td>\n",
       "      <td>skilled</td>\n",
       "      <td>1</td>\n",
       "      <td>no</td>\n",
       "      <td>yes</td>\n",
       "    </tr>\n",
       "    <tr>\n",
       "      <th>2</th>\n",
       "      <td>unknown</td>\n",
       "      <td>12</td>\n",
       "      <td>critical</td>\n",
       "      <td>education</td>\n",
       "      <td>2096</td>\n",
       "      <td>&lt; 100 DM</td>\n",
       "      <td>4 - 7 years</td>\n",
       "      <td>2</td>\n",
       "      <td>3</td>\n",
       "      <td>49</td>\n",
       "      <td>none</td>\n",
       "      <td>own</td>\n",
       "      <td>1</td>\n",
       "      <td>unskilled</td>\n",
       "      <td>2</td>\n",
       "      <td>no</td>\n",
       "      <td>no</td>\n",
       "    </tr>\n",
       "    <tr>\n",
       "      <th>3</th>\n",
       "      <td>&lt; 0 DM</td>\n",
       "      <td>42</td>\n",
       "      <td>good</td>\n",
       "      <td>furniture/appliances</td>\n",
       "      <td>7882</td>\n",
       "      <td>&lt; 100 DM</td>\n",
       "      <td>4 - 7 years</td>\n",
       "      <td>2</td>\n",
       "      <td>4</td>\n",
       "      <td>45</td>\n",
       "      <td>none</td>\n",
       "      <td>other</td>\n",
       "      <td>1</td>\n",
       "      <td>skilled</td>\n",
       "      <td>2</td>\n",
       "      <td>no</td>\n",
       "      <td>no</td>\n",
       "    </tr>\n",
       "    <tr>\n",
       "      <th>4</th>\n",
       "      <td>&lt; 0 DM</td>\n",
       "      <td>24</td>\n",
       "      <td>poor</td>\n",
       "      <td>car</td>\n",
       "      <td>4870</td>\n",
       "      <td>&lt; 100 DM</td>\n",
       "      <td>1 - 4 years</td>\n",
       "      <td>3</td>\n",
       "      <td>4</td>\n",
       "      <td>53</td>\n",
       "      <td>none</td>\n",
       "      <td>other</td>\n",
       "      <td>2</td>\n",
       "      <td>skilled</td>\n",
       "      <td>2</td>\n",
       "      <td>no</td>\n",
       "      <td>yes</td>\n",
       "    </tr>\n",
       "  </tbody>\n",
       "</table>\n",
       "</div>"
      ],
      "text/plain": [
       "  Checking_Balance  Loan_Duration_In_Month Credit_History  \\\n",
       "0           < 0 DM                       6       critical   \n",
       "1       1 - 200 DM                      48           good   \n",
       "2          unknown                      12       critical   \n",
       "3           < 0 DM                      42           good   \n",
       "4           < 0 DM                      24           poor   \n",
       "\n",
       "           Loan_Purpose  Credit_Amount Saving_Account_Balance  \\\n",
       "0  furniture/appliances           1169                unknown   \n",
       "1  furniture/appliances           5951               < 100 DM   \n",
       "2             education           2096               < 100 DM   \n",
       "3  furniture/appliances           7882               < 100 DM   \n",
       "4                   car           4870               < 100 DM   \n",
       "\n",
       "  Present_Employment_Since  Installment_Rent_In_Percent_Of_Income  \\\n",
       "0                > 7 years                                      4   \n",
       "1              1 - 4 years                                      2   \n",
       "2              4 - 7 years                                      2   \n",
       "3              4 - 7 years                                      2   \n",
       "4              1 - 4 years                                      3   \n",
       "\n",
       "   Present_Residual_Since  Age Other_Installment_Plans Housing_Status  \\\n",
       "0                       4   67                    none            own   \n",
       "1                       2   22                    none            own   \n",
       "2                       3   49                    none            own   \n",
       "3                       4   45                    none          other   \n",
       "4                       4   53                    none          other   \n",
       "\n",
       "   Number_Of_Existing_Loan_Installment        Job  \\\n",
       "0                                    2    skilled   \n",
       "1                                    1    skilled   \n",
       "2                                    1  unskilled   \n",
       "3                                    1    skilled   \n",
       "4                                    2    skilled   \n",
       "\n",
       "   Number_Of_Person_Financially_Depend_to_debtor Phone_Have_Or_Not Credit_Risk  \n",
       "0                                              1               yes          no  \n",
       "1                                              1                no         yes  \n",
       "2                                              2                no          no  \n",
       "3                                              2                no          no  \n",
       "4                                              2                no         yes  "
      ]
     },
     "execution_count": 3,
     "metadata": {},
     "output_type": "execute_result"
    }
   ],
   "source": [
    "# change columns name for better understanding\n",
    "df_credit.rename(columns={'checking_balance':'Checking_Balance',\n",
    "                 'months_loan_duration':'Loan_Duration_In_Month',\n",
    "                 'credit_history':'Credit_History',\n",
    "                 'purpose':'Loan_Purpose',\n",
    "                 'amount':'Credit_Amount',\n",
    "                 'savings_balance':'Saving_Account_Balance',\n",
    "                 'employment_duration':'Present_Employment_Since',\n",
    "                 'percent_of_income':'Installment_Rent_In_Percent_Of_Income',\n",
    "                 'years_at_residence':'Present_Residual_Since',\n",
    "                 'age':'Age',\n",
    "                 'other_credit':'Other_Installment_Plans',\n",
    "                 'housing':'Housing_Status',\n",
    "                 'existing_loans_count':'Number_Of_Existing_Loan_Installment',\n",
    "                 'job':'Job',\n",
    "                 'dependents':'Number_Of_Person_Financially_Depend_to_debtor',\n",
    "                 'phone':'Phone_Have_Or_Not',\n",
    "                 'default':'Credit_Risk'},inplace=True)\n",
    "df_credit.head()"
   ]
  },
  {
   "cell_type": "code",
   "execution_count": 4,
   "id": "22c7f86e",
   "metadata": {},
   "outputs": [
    {
     "data": {
      "text/html": [
       "<div>\n",
       "<style scoped>\n",
       "    .dataframe tbody tr th:only-of-type {\n",
       "        vertical-align: middle;\n",
       "    }\n",
       "\n",
       "    .dataframe tbody tr th {\n",
       "        vertical-align: top;\n",
       "    }\n",
       "\n",
       "    .dataframe thead th {\n",
       "        text-align: right;\n",
       "    }\n",
       "</style>\n",
       "<table border=\"1\" class=\"dataframe\">\n",
       "  <thead>\n",
       "    <tr style=\"text-align: right;\">\n",
       "      <th></th>\n",
       "      <th>Checking_Balance</th>\n",
       "      <th>Loan_Duration_In_Month</th>\n",
       "      <th>Credit_History</th>\n",
       "      <th>Loan_Purpose</th>\n",
       "      <th>Credit_Amount</th>\n",
       "      <th>Saving_Account_Balance</th>\n",
       "      <th>Present_Employment_Since</th>\n",
       "      <th>Installment_Rent_In_Percent_Of_Income</th>\n",
       "      <th>Present_Residual_Since</th>\n",
       "      <th>Age</th>\n",
       "      <th>Other_Installment_Plans</th>\n",
       "      <th>Housing_Status</th>\n",
       "      <th>Number_Of_Existing_Loan_Installment</th>\n",
       "      <th>Job</th>\n",
       "      <th>Number_Of_Person_Financially_Depend_to_debtor</th>\n",
       "      <th>Phone_Have_Or_Not</th>\n",
       "      <th>Credit_Risk</th>\n",
       "    </tr>\n",
       "  </thead>\n",
       "  <tbody>\n",
       "    <tr>\n",
       "      <th>0</th>\n",
       "      <td>&lt; 0 DM</td>\n",
       "      <td>6</td>\n",
       "      <td>critical</td>\n",
       "      <td>furniture/appliances</td>\n",
       "      <td>1169</td>\n",
       "      <td>unknown</td>\n",
       "      <td>&gt; 7 years</td>\n",
       "      <td>&lt;= 20%</td>\n",
       "      <td>&gt; 7 yrs</td>\n",
       "      <td>67</td>\n",
       "      <td>none</td>\n",
       "      <td>own</td>\n",
       "      <td>2 - 3</td>\n",
       "      <td>skilled</td>\n",
       "      <td>&gt;= 3 people</td>\n",
       "      <td>yes</td>\n",
       "      <td>Good Risk</td>\n",
       "    </tr>\n",
       "    <tr>\n",
       "      <th>1</th>\n",
       "      <td>1 - 200 DM</td>\n",
       "      <td>48</td>\n",
       "      <td>good</td>\n",
       "      <td>furniture/appliances</td>\n",
       "      <td>5951</td>\n",
       "      <td>&lt; 100 DM</td>\n",
       "      <td>1 - 4 years</td>\n",
       "      <td>25% - 35%</td>\n",
       "      <td>1 - 4 yrs</td>\n",
       "      <td>22</td>\n",
       "      <td>none</td>\n",
       "      <td>own</td>\n",
       "      <td>1</td>\n",
       "      <td>skilled</td>\n",
       "      <td>&gt;= 3 people</td>\n",
       "      <td>no</td>\n",
       "      <td>Bad Risk</td>\n",
       "    </tr>\n",
       "    <tr>\n",
       "      <th>2</th>\n",
       "      <td>unknown</td>\n",
       "      <td>12</td>\n",
       "      <td>critical</td>\n",
       "      <td>education</td>\n",
       "      <td>2096</td>\n",
       "      <td>&lt; 100 DM</td>\n",
       "      <td>4 - 7 years</td>\n",
       "      <td>25% - 35%</td>\n",
       "      <td>4 - 7 yrs</td>\n",
       "      <td>49</td>\n",
       "      <td>none</td>\n",
       "      <td>own</td>\n",
       "      <td>1</td>\n",
       "      <td>unskilled</td>\n",
       "      <td>0 - 2 people</td>\n",
       "      <td>no</td>\n",
       "      <td>Good Risk</td>\n",
       "    </tr>\n",
       "    <tr>\n",
       "      <th>3</th>\n",
       "      <td>&lt; 0 DM</td>\n",
       "      <td>42</td>\n",
       "      <td>good</td>\n",
       "      <td>furniture/appliances</td>\n",
       "      <td>7882</td>\n",
       "      <td>&lt; 100 DM</td>\n",
       "      <td>4 - 7 years</td>\n",
       "      <td>25% - 35%</td>\n",
       "      <td>&gt; 7 yrs</td>\n",
       "      <td>45</td>\n",
       "      <td>none</td>\n",
       "      <td>other</td>\n",
       "      <td>1</td>\n",
       "      <td>skilled</td>\n",
       "      <td>0 - 2 people</td>\n",
       "      <td>no</td>\n",
       "      <td>Good Risk</td>\n",
       "    </tr>\n",
       "    <tr>\n",
       "      <th>4</th>\n",
       "      <td>&lt; 0 DM</td>\n",
       "      <td>24</td>\n",
       "      <td>poor</td>\n",
       "      <td>car(new)</td>\n",
       "      <td>4870</td>\n",
       "      <td>&lt; 100 DM</td>\n",
       "      <td>1 - 4 years</td>\n",
       "      <td>25% - 20%</td>\n",
       "      <td>&gt; 7 yrs</td>\n",
       "      <td>53</td>\n",
       "      <td>none</td>\n",
       "      <td>other</td>\n",
       "      <td>2 - 3</td>\n",
       "      <td>skilled</td>\n",
       "      <td>0 - 2 people</td>\n",
       "      <td>no</td>\n",
       "      <td>Bad Risk</td>\n",
       "    </tr>\n",
       "  </tbody>\n",
       "</table>\n",
       "</div>"
      ],
      "text/plain": [
       "  Checking_Balance  Loan_Duration_In_Month Credit_History  \\\n",
       "0           < 0 DM                       6       critical   \n",
       "1       1 - 200 DM                      48           good   \n",
       "2          unknown                      12       critical   \n",
       "3           < 0 DM                      42           good   \n",
       "4           < 0 DM                      24           poor   \n",
       "\n",
       "           Loan_Purpose  Credit_Amount Saving_Account_Balance  \\\n",
       "0  furniture/appliances           1169                unknown   \n",
       "1  furniture/appliances           5951               < 100 DM   \n",
       "2             education           2096               < 100 DM   \n",
       "3  furniture/appliances           7882               < 100 DM   \n",
       "4              car(new)           4870               < 100 DM   \n",
       "\n",
       "  Present_Employment_Since Installment_Rent_In_Percent_Of_Income  \\\n",
       "0                > 7 years                                <= 20%   \n",
       "1              1 - 4 years                             25% - 35%   \n",
       "2              4 - 7 years                             25% - 35%   \n",
       "3              4 - 7 years                             25% - 35%   \n",
       "4              1 - 4 years                             25% - 20%   \n",
       "\n",
       "  Present_Residual_Since  Age Other_Installment_Plans Housing_Status  \\\n",
       "0                > 7 yrs   67                    none            own   \n",
       "1              1 - 4 yrs   22                    none            own   \n",
       "2              4 - 7 yrs   49                    none            own   \n",
       "3                > 7 yrs   45                    none          other   \n",
       "4                > 7 yrs   53                    none          other   \n",
       "\n",
       "  Number_Of_Existing_Loan_Installment        Job  \\\n",
       "0                               2 - 3    skilled   \n",
       "1                                   1    skilled   \n",
       "2                                   1  unskilled   \n",
       "3                                   1    skilled   \n",
       "4                               2 - 3    skilled   \n",
       "\n",
       "  Number_Of_Person_Financially_Depend_to_debtor Phone_Have_Or_Not Credit_Risk  \n",
       "0                                   >= 3 people               yes   Good Risk  \n",
       "1                                   >= 3 people                no    Bad Risk  \n",
       "2                                  0 - 2 people                no   Good Risk  \n",
       "3                                  0 - 2 people                no   Good Risk  \n",
       "4                                  0 - 2 people                no    Bad Risk  "
      ]
     },
     "execution_count": 4,
     "metadata": {},
     "output_type": "execute_result"
    }
   ],
   "source": [
    "# change value of data\n",
    "df_credit.replace({\"Loan_Purpose\":{\"car\":\"car(new)\",\"car0\":\"car(old)\"},\n",
    "                  \"Installment_Rent_In_Percent_Of_Income\":{1:'>= 35%',2:'25% - 35%',3:'25% - 20%',4:'<= 20%'},\n",
    "                  \"Present_Residual_Since\":{1:\" < 1 yrs\",2:\" 1 - 4 yrs\",3:\"4 - 7 yrs\",4:\" > 7 yrs\"},\n",
    "                  \"Number_Of_Existing_Loan_Installment\":{1:\"1\",2:\"2 - 3\",3:\"4 - 5\",4:\">=6\"},\n",
    "                   \"Number_Of_Person_Financially_Depend_to_debtor\":{1:\" >= 3 people\",2:\"0 - 2 people\"},\n",
    "                   \"Credit_Risk\":{\"no\":\"Good Risk\",\"yes\":'Bad Risk'}\n",
    "                  },inplace=True)\n",
    "df_credit.head()"
   ]
  },
  {
   "cell_type": "code",
   "execution_count": 5,
   "id": "22a4dcc2",
   "metadata": {},
   "outputs": [
    {
     "name": "stdout",
     "output_type": "stream",
     "text": [
      "<class 'pandas.core.frame.DataFrame'>\n",
      "RangeIndex: 1000 entries, 0 to 999\n",
      "Data columns (total 17 columns):\n",
      " #   Column                                         Non-Null Count  Dtype \n",
      "---  ------                                         --------------  ----- \n",
      " 0   Checking_Balance                               1000 non-null   object\n",
      " 1   Loan_Duration_In_Month                         1000 non-null   int64 \n",
      " 2   Credit_History                                 1000 non-null   object\n",
      " 3   Loan_Purpose                                   1000 non-null   object\n",
      " 4   Credit_Amount                                  1000 non-null   int64 \n",
      " 5   Saving_Account_Balance                         1000 non-null   object\n",
      " 6   Present_Employment_Since                       1000 non-null   object\n",
      " 7   Installment_Rent_In_Percent_Of_Income          1000 non-null   object\n",
      " 8   Present_Residual_Since                         1000 non-null   object\n",
      " 9   Age                                            1000 non-null   int64 \n",
      " 10  Other_Installment_Plans                        1000 non-null   object\n",
      " 11  Housing_Status                                 1000 non-null   object\n",
      " 12  Number_Of_Existing_Loan_Installment            1000 non-null   object\n",
      " 13  Job                                            1000 non-null   object\n",
      " 14  Number_Of_Person_Financially_Depend_to_debtor  1000 non-null   object\n",
      " 15  Phone_Have_Or_Not                              1000 non-null   object\n",
      " 16  Credit_Risk                                    1000 non-null   object\n",
      "dtypes: int64(3), object(14)\n",
      "memory usage: 132.9+ KB\n"
     ]
    }
   ],
   "source": [
    "df_credit.info() #data have not null value"
   ]
  },
  {
   "cell_type": "markdown",
   "id": "db2f864b",
   "metadata": {},
   "source": [
    "**Interpretation:**Dataset not contain null value."
   ]
  },
  {
   "cell_type": "code",
   "execution_count": 5,
   "id": "86a0ec68",
   "metadata": {},
   "outputs": [
    {
     "data": {
      "text/html": [
       "<div>\n",
       "<style scoped>\n",
       "    .dataframe tbody tr th:only-of-type {\n",
       "        vertical-align: middle;\n",
       "    }\n",
       "\n",
       "    .dataframe tbody tr th {\n",
       "        vertical-align: top;\n",
       "    }\n",
       "\n",
       "    .dataframe thead th {\n",
       "        text-align: right;\n",
       "    }\n",
       "</style>\n",
       "<table border=\"1\" class=\"dataframe\">\n",
       "  <thead>\n",
       "    <tr style=\"text-align: right;\">\n",
       "      <th></th>\n",
       "      <th>count</th>\n",
       "      <th>mean</th>\n",
       "      <th>std</th>\n",
       "      <th>min</th>\n",
       "      <th>25%</th>\n",
       "      <th>50%</th>\n",
       "      <th>75%</th>\n",
       "      <th>max</th>\n",
       "    </tr>\n",
       "  </thead>\n",
       "  <tbody>\n",
       "    <tr>\n",
       "      <th>Loan_Duration_In_Month</th>\n",
       "      <td>1000.000000</td>\n",
       "      <td>20.903000</td>\n",
       "      <td>12.058814</td>\n",
       "      <td>4.000000</td>\n",
       "      <td>12.000000</td>\n",
       "      <td>18.000000</td>\n",
       "      <td>24.000000</td>\n",
       "      <td>72.000000</td>\n",
       "    </tr>\n",
       "    <tr>\n",
       "      <th>Credit_Amount</th>\n",
       "      <td>1000.000000</td>\n",
       "      <td>3271.258000</td>\n",
       "      <td>2822.736876</td>\n",
       "      <td>250.000000</td>\n",
       "      <td>1365.500000</td>\n",
       "      <td>2319.500000</td>\n",
       "      <td>3972.250000</td>\n",
       "      <td>18424.000000</td>\n",
       "    </tr>\n",
       "    <tr>\n",
       "      <th>Age</th>\n",
       "      <td>1000.000000</td>\n",
       "      <td>35.546000</td>\n",
       "      <td>11.375469</td>\n",
       "      <td>19.000000</td>\n",
       "      <td>27.000000</td>\n",
       "      <td>33.000000</td>\n",
       "      <td>42.000000</td>\n",
       "      <td>75.000000</td>\n",
       "    </tr>\n",
       "  </tbody>\n",
       "</table>\n",
       "</div>"
      ],
      "text/plain": [
       "                             count        mean         std        min  \\\n",
       "Loan_Duration_In_Month 1000.000000   20.903000   12.058814   4.000000   \n",
       "Credit_Amount          1000.000000 3271.258000 2822.736876 250.000000   \n",
       "Age                    1000.000000   35.546000   11.375469  19.000000   \n",
       "\n",
       "                               25%         50%         75%          max  \n",
       "Loan_Duration_In_Month   12.000000   18.000000   24.000000    72.000000  \n",
       "Credit_Amount          1365.500000 2319.500000 3972.250000 18424.000000  \n",
       "Age                      27.000000   33.000000   42.000000    75.000000  "
      ]
     },
     "execution_count": 5,
     "metadata": {},
     "output_type": "execute_result"
    }
   ],
   "source": [
    "df_credit.describe().T #data have not much outlier"
   ]
  },
  {
   "cell_type": "markdown",
   "id": "31b641ef",
   "metadata": {},
   "source": [
    "**Interpretation:**Statistics Summary of data and after observing mean and median we see that data not much contain outliers."
   ]
  },
  {
   "cell_type": "markdown",
   "id": "82957492",
   "metadata": {},
   "source": [
    "# EDA"
   ]
  },
  {
   "cell_type": "markdown",
   "id": "e1afeb44",
   "metadata": {},
   "source": [
    "# Univariate Analysis"
   ]
  },
  {
   "cell_type": "code",
   "execution_count": 5,
   "id": "e87f533c",
   "metadata": {},
   "outputs": [
    {
     "data": {
      "text/plain": [
       "<AxesSubplot:xlabel='Checking_Balance', ylabel='count'>"
      ]
     },
     "execution_count": 5,
     "metadata": {},
     "output_type": "execute_result"
    },
    {
     "data": {
      "image/png": "[encoded data removed]",
      "text/plain": [
       "<Figure size 432x288 with 1 Axes>"
      ]
     },
     "metadata": {
      "needs_background": "light"
     },
     "output_type": "display_data"
    }
   ],
   "source": [
    "sns.countplot('Checking_Balance',palette='crest',data=df_credit)"
   ]
  },
  {
   "cell_type": "markdown",
   "id": "1aa6e5ec",
   "metadata": {},
   "source": [
    "**Interpretation:**Here we see that unknown count is more i.e. no checking account is more comapre to other and >200 DM account balance customer less"
   ]
  },
  {
   "cell_type": "code",
   "execution_count": 12,
   "id": "1853bc5a",
   "metadata": {},
   "outputs": [
    {
     "data": {
      "text/plain": [
       "<AxesSubplot:xlabel='Loan_Duration_In_Month', ylabel='count'>"
      ]
     },
     "execution_count": 12,
     "metadata": {},
     "output_type": "execute_result"
    },
    {
     "data": {
      "image/png": "[encoded data removed]",
      "text/plain": [
       "<Figure size 1080x576 with 1 Axes>"
      ]
     },
     "metadata": {
      "needs_background": "light"
     },
     "output_type": "display_data"
    }
   ],
   "source": [
    "plt.figure(figsize=(15,8))\n",
    "sns.countplot('Loan_Duration_In_Month',data=df_credit)"
   ]
  },
  {
   "cell_type": "markdown",
   "id": "b816aa73",
   "metadata": {},
   "source": [
    "**Interpretation:**Here we see that 12 and 24 month loan duration that loan customer take more."
   ]
  },
  {
   "cell_type": "code",
   "execution_count": 13,
   "id": "4a98e178",
   "metadata": {},
   "outputs": [
    {
     "data": {
      "text/plain": [
       "<AxesSubplot:xlabel='Credit_History', ylabel='count'>"
      ]
     },
     "execution_count": 13,
     "metadata": {},
     "output_type": "execute_result"
    },
    {
     "data": {
      "image/png": "[encoded data removed]",
      "text/plain": [
       "<Figure size 432x288 with 1 Axes>"
      ]
     },
     "metadata": {
      "needs_background": "light"
     },
     "output_type": "display_data"
    }
   ],
   "source": [
    "sns.countplot('Credit_History',palette='ocean_r',data=df_credit)"
   ]
  },
  {
   "cell_type": "markdown",
   "id": "39412e30",
   "metadata": {},
   "source": [
    "**Interpretation:**Here we see that good credit history is more i.e. existing credit paid back duly till now is more compare to other so, this is good for bank."
   ]
  },
  {
   "cell_type": "code",
   "execution_count": 19,
   "id": "7068dd97",
   "metadata": {},
   "outputs": [
    {
     "data": {
      "image/png": "[encoded data removed]",
      "text/plain": [
       "<Figure size 864x576 with 1 Axes>"
      ]
     },
     "metadata": {
      "needs_background": "light"
     },
     "output_type": "display_data"
    }
   ],
   "source": [
    "plt.figure(figsize=(12,8))\n",
    "ax=sns.countplot('Loan_Purpose',data=df_credit)"
   ]
  },
  {
   "cell_type": "markdown",
   "id": "24ae56df",
   "metadata": {},
   "source": [
    "**Interpretation:** Furniture/Appliances loan Purpose is more."
   ]
  },
  {
   "cell_type": "code",
   "execution_count": 65,
   "id": "a46ed069",
   "metadata": {},
   "outputs": [
    {
     "data": {
      "text/plain": [
       "<AxesSubplot:xlabel='Credit_Amount', ylabel='Count'>"
      ]
     },
     "execution_count": 65,
     "metadata": {},
     "output_type": "execute_result"
    },
    {
     "data": {
      "image/png": "[encoded data removed]",
      "text/plain": [
       "<Figure size 720x576 with 1 Axes>"
      ]
     },
     "metadata": {
      "needs_background": "light"
     },
     "output_type": "display_data"
    }
   ],
   "source": [
    "plt.figure(figsize=(10,8))\n",
    "sns.histplot(x='Credit_Amount',color='teal',kde=True,data=df_credit)"
   ]
  },
  {
   "cell_type": "markdown",
   "id": "b27a2e61",
   "metadata": {},
   "source": [
    "**Interpretation:**Installment Credit_Amount mostly between 1000 to 3000."
   ]
  },
  {
   "cell_type": "code",
   "execution_count": 21,
   "id": "ff5a51b9",
   "metadata": {},
   "outputs": [
    {
     "data": {
      "text/plain": [
       "<AxesSubplot:xlabel='Saving_Account_Balance', ylabel='count'>"
      ]
     },
     "execution_count": 21,
     "metadata": {},
     "output_type": "execute_result"
    },
    {
     "data": {
      "image/png": "[encoded data removed]",
      "text/plain": [
       "<Figure size 432x288 with 1 Axes>"
      ]
     },
     "metadata": {
      "needs_background": "light"
     },
     "output_type": "display_data"
    }
   ],
   "source": [
    "sns.countplot('Saving_Account_Balance',palette='hls',data=df_credit)"
   ]
  },
  {
   "cell_type": "markdown",
   "id": "f294e11c",
   "metadata": {},
   "source": [
    "**Interpretation:**Saving account balance normal range is <100 DM"
   ]
  },
  {
   "cell_type": "code",
   "execution_count": 22,
   "id": "99730774",
   "metadata": {},
   "outputs": [
    {
     "data": {
      "text/plain": [
       "<AxesSubplot:xlabel='Present_Employment_Since', ylabel='count'>"
      ]
     },
     "execution_count": 22,
     "metadata": {},
     "output_type": "execute_result"
    },
    {
     "data": {
      "image/png": "[encoded data removed]",
      "text/plain": [
       "<Figure size 432x288 with 1 Axes>"
      ]
     },
     "metadata": {
      "needs_background": "light"
     },
     "output_type": "display_data"
    }
   ],
   "source": [
    "sns.countplot('Present_Employment_Since',palette='ocean_r',data=df_credit)"
   ]
  },
  {
   "cell_type": "markdown",
   "id": "f7318c7c",
   "metadata": {},
   "source": [
    "**Interpretation:**1-4 year employment people take loan more that means may be beginer take loan for car or home"
   ]
  },
  {
   "cell_type": "code",
   "execution_count": 26,
   "id": "d21a2707",
   "metadata": {},
   "outputs": [
    {
     "data": {
      "image/png": "[encoded data removed]",
      "text/plain": [
       "<Figure size 864x576 with 1 Axes>"
      ]
     },
     "metadata": {
      "needs_background": "light"
     },
     "output_type": "display_data"
    }
   ],
   "source": [
    "plt.figure(figsize=(12,8))\n",
    "ax=sns.countplot('Installment_Rent_In_Percent_Of_Income',palette='hls',data=df_credit)"
   ]
  },
  {
   "cell_type": "markdown",
   "id": "457dc508",
   "metadata": {},
   "source": [
    "**Interpretation:**Less than 20% installment rate take from the disposable income customer more."
   ]
  },
  {
   "cell_type": "code",
   "execution_count": 28,
   "id": "4be4cc0c",
   "metadata": {},
   "outputs": [
    {
     "data": {
      "image/png": "[encoded data removed]",
      "text/plain": [
       "<Figure size 864x576 with 1 Axes>"
      ]
     },
     "metadata": {
      "needs_background": "light"
     },
     "output_type": "display_data"
    }
   ],
   "source": [
    "plt.figure(figsize=(12,8))\n",
    "ax=sns.countplot('Present_Residual_Since',palette='Set1',data=df_credit)"
   ]
  },
  {
   "cell_type": "markdown",
   "id": "6b1ab7c7",
   "metadata": {},
   "source": [
    "**Interpretation:**More than 7 year residual customer more."
   ]
  },
  {
   "cell_type": "code",
   "execution_count": 111,
   "id": "2a88b29d",
   "metadata": {},
   "outputs": [
    {
     "data": {
      "text/plain": [
       "<AxesSubplot:xlabel='Age', ylabel='Density'>"
      ]
     },
     "execution_count": 111,
     "metadata": {},
     "output_type": "execute_result"
    },
    {
     "data": {
      "image/png": "[encoded data removed]",
      "text/plain": [
       "<Figure size 432x288 with 1 Axes>"
      ]
     },
     "metadata": {},
     "output_type": "display_data"
    }
   ],
   "source": [
    "#plt.style.use(\"ggplot\")\n",
    "\n",
    "sns.distplot(df_credit.Age,rug=True,rug_kws={'color':'g'},kde_kws={'color':'black'},hist_kws={'histtype':'step','linewidth':1,'alpha':1,'color':'darkgreen'})"
   ]
  },
  {
   "cell_type": "markdown",
   "id": "3426070a",
   "metadata": {},
   "source": [
    "**Interpretation:**Positive skewed graph and 25 to 35 age group customer take more loan"
   ]
  },
  {
   "cell_type": "code",
   "execution_count": 15,
   "id": "2fcab0b6",
   "metadata": {},
   "outputs": [
    {
     "data": {
      "text/plain": [
       "<AxesSubplot:xlabel='Other_Installment_Plans', ylabel='count'>"
      ]
     },
     "execution_count": 15,
     "metadata": {},
     "output_type": "execute_result"
    },
    {
     "data": {
      "image/png": "[encoded data removed]",
      "text/plain": [
       "<Figure size 432x288 with 1 Axes>"
      ]
     },
     "metadata": {
      "needs_background": "light"
     },
     "output_type": "display_data"
    }
   ],
   "source": [
    "sns.countplot('Other_Installment_Plans',palette='Set2',data=df_credit)"
   ]
  },
  {
   "cell_type": "markdown",
   "id": "6b0190bb",
   "metadata": {},
   "source": [
    "**Interpretation:**Mostly customer take 1 loan at that time, few customer take more than 1 loan."
   ]
  },
  {
   "cell_type": "code",
   "execution_count": 141,
   "id": "6c2ad4c8",
   "metadata": {},
   "outputs": [
    {
     "data": {
      "text/plain": [
       "<AxesSubplot:xlabel='Housing_Status', ylabel='count'>"
      ]
     },
     "execution_count": 141,
     "metadata": {},
     "output_type": "execute_result"
    },
    {
     "data": {
      "image/png": "[encoded data removed]",
      "text/plain": [
       "<Figure size 432x288 with 1 Axes>"
      ]
     },
     "metadata": {},
     "output_type": "display_data"
    }
   ],
   "source": [
    "sns.countplot('Housing_Status',palette='Paired',data=df_credit)"
   ]
  },
  {
   "cell_type": "markdown",
   "id": "f1cd40e7",
   "metadata": {},
   "source": [
    "**Interpretation:**70% customer have own house"
   ]
  },
  {
   "cell_type": "code",
   "execution_count": 29,
   "id": "61e90d6c",
   "metadata": {},
   "outputs": [
    {
     "data": {
      "image/png": "[encoded data removed]",
      "text/plain": [
       "<Figure size 864x576 with 1 Axes>"
      ]
     },
     "metadata": {
      "needs_background": "light"
     },
     "output_type": "display_data"
    }
   ],
   "source": [
    "plt.figure(figsize=(12,8))\n",
    "ax=sns.countplot('Number_Of_Existing_Loan_Installment',palette='Set2',data=df_credit)"
   ]
  },
  {
   "cell_type": "markdown",
   "id": "52dc69eb",
   "metadata": {},
   "source": [
    "**Interpretation:**"
   ]
  },
  {
   "cell_type": "code",
   "execution_count": 17,
   "id": "c5399476",
   "metadata": {},
   "outputs": [
    {
     "data": {
      "text/plain": [
       "<AxesSubplot:xlabel='Job', ylabel='count'>"
      ]
     },
     "execution_count": 17,
     "metadata": {},
     "output_type": "execute_result"
    },
    {
     "data": {
      "image/png": "[encoded data removed]",
      "text/plain": [
       "<Figure size 432x288 with 1 Axes>"
      ]
     },
     "metadata": {
      "needs_background": "light"
     },
     "output_type": "display_data"
    }
   ],
   "source": [
    "sns.countplot('Job',palette='hls',data=df_credit)"
   ]
  },
  {
   "cell_type": "markdown",
   "id": "ba09f183",
   "metadata": {},
   "source": [
    "**Interpretation:** Skilled status job customer take more loan may be that have get monthly income regulerly so that capable pay to loan installment easily."
   ]
  },
  {
   "cell_type": "code",
   "execution_count": 30,
   "id": "eecafd29",
   "metadata": {
    "scrolled": true
   },
   "outputs": [
    {
     "data": {
      "image/png": "[encoded data removed]",
      "text/plain": [
       "<Figure size 720x360 with 1 Axes>"
      ]
     },
     "metadata": {
      "needs_background": "light"
     },
     "output_type": "display_data"
    }
   ],
   "source": [
    "plt.figure(figsize=(10,5))\n",
    "ax=sns.countplot('Number_Of_Person_Financially_Depend_to_debtor',palette='Set2',data=df_credit)"
   ]
  },
  {
   "cell_type": "markdown",
   "id": "5ed2ef34",
   "metadata": {},
   "source": [
    "**Interpretation:** 3 or more person financially depend to debtor count more.May be they pay installment late."
   ]
  },
  {
   "cell_type": "code",
   "execution_count": 23,
   "id": "552b725a",
   "metadata": {},
   "outputs": [
    {
     "data": {
      "text/plain": [
       "<AxesSubplot:xlabel='Phone_Have_Or_Not', ylabel='count'>"
      ]
     },
     "execution_count": 23,
     "metadata": {},
     "output_type": "execute_result"
    },
    {
     "data": {
      "image/png": "[encoded data removed]",
      "text/plain": [
       "<Figure size 432x288 with 1 Axes>"
      ]
     },
     "metadata": {
      "needs_background": "light"
     },
     "output_type": "display_data"
    }
   ],
   "source": [
    "sns.countplot('Phone_Have_Or_Not',palette='Set2',data=df_credit)"
   ]
  },
  {
   "cell_type": "markdown",
   "id": "72b9658d",
   "metadata": {},
   "source": [
    "**Interpretation:** 60% customer have not phone because this 1790s data so may be people have not carry phone that time."
   ]
  },
  {
   "cell_type": "code",
   "execution_count": 31,
   "id": "d868d0f0",
   "metadata": {},
   "outputs": [
    {
     "data": {
      "image/png": "[encoded data removed]",
      "text/plain": [
       "<Figure size 720x360 with 1 Axes>"
      ]
     },
     "metadata": {
      "needs_background": "light"
     },
     "output_type": "display_data"
    }
   ],
   "source": [
    "plt.figure(figsize=(10,5))\n",
    "ax=sns.countplot('Credit_Risk',palette=\"viridis\",data=df_credit)"
   ]
  },
  {
   "cell_type": "markdown",
   "id": "f84124b8",
   "metadata": {},
   "source": [
    "**Interpretation:**Good Risk is 70% and bad risk is 30%"
   ]
  },
  {
   "cell_type": "code",
   "execution_count": 19,
   "id": "087c5a80",
   "metadata": {},
   "outputs": [
    {
     "data": {
      "image/png": "[encoded data removed]",
      "text/plain": [
       "<Figure size 864x360 with 3 Axes>"
      ]
     },
     "metadata": {
      "needs_background": "light"
     },
     "output_type": "display_data"
    }
   ],
   "source": [
    "df_num = df_credit.select_dtypes(include=[np.number])\n",
    "fig, ax = plt.subplots(1,3,figsize=(12, 5))\n",
    "\n",
    "for variable, subplot in zip(df_num.columns, ax.flatten()):\n",
    "    z = sns.boxplot(y = df_num[variable], orient = \"v\",whis=1.5 , ax=subplot,color='teal') \n",
    "    z.set_xlabel(variable, fontsize = 10)                                     "
   ]
  },
  {
   "cell_type": "markdown",
   "id": "7b03a3b1",
   "metadata": {},
   "source": [
    "# Bivariate Analysis"
   ]
  },
  {
   "cell_type": "code",
   "execution_count": 31,
   "id": "afd80c9c",
   "metadata": {},
   "outputs": [],
   "source": [
    "# Bivariate Analysis\n",
    "def visualize_distribution(attr):\n",
    "    good_risk_df = df_credit[df_credit[\"Credit_Risk\"]==\"Good Risk\"]\n",
    "    bad_risk_df = df_credit[df_credit[\"Credit_Risk\"]==\"Bad Risk\"]\n",
    "    fig, ax = plt.subplots(nrows=1, ncols=2, figsize=(15,5))\n",
    "    attr_good_risk_df = good_risk_df[[attr, 'Credit_Risk']].groupby(attr).count()\n",
    "    attr_bad_risk_df = bad_risk_df[[attr, 'Credit_Risk']].groupby(attr).count()\n",
    "    ax[0].barh( attr_good_risk_df['Credit_Risk'].index.tolist(), attr_good_risk_df['Credit_Risk'].tolist(), align='center', color=\"#5975A4\")\n",
    "    ax[1].barh( attr_bad_risk_df['Credit_Risk'].index.tolist(), attr_bad_risk_df['Credit_Risk'].tolist(), align='center', color=\"#B55D60\")\n",
    "    ax[0].set_title('Good Risk')\n",
    "    ax[1].set_title('Bad Risk')\n",
    "    ax[0].invert_xaxis()\n",
    "    ax[1].yaxis.tick_right()\n",
    "    num_para_change=[\"Present residence since\",\"Number of existing credits at this bank\",\"Installment rate in percentage of disposable income\",\"Number of people being liable to provide maintenance for\"]\n",
    "    if attr in num_para_change:\n",
    "        for i, v in enumerate(attr_good_risk_df['Credit_Risk'].tolist()):\n",
    "            ax[0].text(v+15, i+1, str(v), color='black')\n",
    "        for i, v in enumerate(attr_bad_risk_df['Credit_Risk'].tolist()):\n",
    "            ax[1].text(v+2, i+1, str(v), color='black')\n",
    "    else:\n",
    "        for i, v in enumerate(attr_good_risk_df['Credit_Risk'].tolist()):\n",
    "            ax[0].text(v+25, i + .05, str(v), color='black')\n",
    "        for i, v in enumerate(attr_bad_risk_df['Credit_Risk'].tolist()):\n",
    "            ax[1].text(v+1, i + .05, str(v), color='black')\n",
    "    plt.suptitle(attr)\n",
    "    plt.tight_layout()\n",
    "    plt.show()\n",
    "   "
   ]
  },
  {
   "cell_type": "code",
   "execution_count": 32,
   "id": "ce112f5d",
   "metadata": {},
   "outputs": [
    {
     "data": {
      "image/png": "[encoded data removed]",
      "text/plain": [
       "<Figure size 1080x360 with 2 Axes>"
      ]
     },
     "metadata": {
      "needs_background": "light"
     },
     "output_type": "display_data"
    }
   ],
   "source": [
    "visualize_distribution(\"Checking_Balance\")"
   ]
  },
  {
   "cell_type": "code",
   "execution_count": 10,
   "id": "892415e8",
   "metadata": {},
   "outputs": [
    {
     "data": {
      "image/png": "[encoded data removed]",
      "text/plain": [
       "<Figure size 1080x360 with 2 Axes>"
      ]
     },
     "metadata": {
      "needs_background": "light"
     },
     "output_type": "display_data"
    }
   ],
   "source": [
    "visualize_distribution(\"Credit_History\")"
   ]
  },
  {
   "cell_type": "code",
   "execution_count": 11,
   "id": "7f526f92",
   "metadata": {},
   "outputs": [
    {
     "data": {
      "image/png": "[encoded data removed]",
      "text/plain": [
       "<Figure size 1080x360 with 2 Axes>"
      ]
     },
     "metadata": {
      "needs_background": "light"
     },
     "output_type": "display_data"
    }
   ],
   "source": [
    "visualize_distribution(\"Saving_Account_Balance\")"
   ]
  },
  {
   "cell_type": "code",
   "execution_count": 33,
   "id": "e769c6c5",
   "metadata": {},
   "outputs": [
    {
     "data": {
      "image/png": "[encoded data removed]",
      "text/plain": [
       "<Figure size 1080x360 with 2 Axes>"
      ]
     },
     "metadata": {
      "needs_background": "light"
     },
     "output_type": "display_data"
    }
   ],
   "source": [
    "visualize_distribution(\"Installment_Rent_In_Percent_Of_Income\")"
   ]
  },
  {
   "cell_type": "code",
   "execution_count": 37,
   "id": "957aa561",
   "metadata": {},
   "outputs": [
    {
     "data": {
      "image/png": "[encoded data removed]",
      "text/plain": [
       "<Figure size 1080x360 with 2 Axes>"
      ]
     },
     "metadata": {
      "needs_background": "light"
     },
     "output_type": "display_data"
    }
   ],
   "source": [
    "visualize_distribution(\"Other_Installment_Plans\")"
   ]
  },
  {
   "cell_type": "code",
   "execution_count": 52,
   "id": "369f230c",
   "metadata": {},
   "outputs": [
    {
     "data": {
      "text/plain": [
       "<AxesSubplot:xlabel='Loan_Duration_In_Month', ylabel='Credit_Amount'>"
      ]
     },
     "execution_count": 52,
     "metadata": {},
     "output_type": "execute_result"
    },
    {
     "data": {
      "image/png": "[encoded data removed]",
      "text/plain": [
       "<Figure size 1080x576 with 1 Axes>"
      ]
     },
     "metadata": {
      "needs_background": "light"
     },
     "output_type": "display_data"
    }
   ],
   "source": [
    "plt.figure(figsize=(15,8))\n",
    "sns.stripplot(x='Loan_Duration_In_Month',y='Credit_Amount',data=df_credit)"
   ]
  },
  {
   "cell_type": "markdown",
   "id": "72634e69",
   "metadata": {},
   "source": [
    "**Interpretation:**We see that credit amount increase when loan duration increase"
   ]
  },
  {
   "cell_type": "code",
   "execution_count": 20,
   "id": "823eb79a",
   "metadata": {},
   "outputs": [
    {
     "data": {
      "text/html": [
       "<div>\n",
       "<style scoped>\n",
       "    .dataframe tbody tr th:only-of-type {\n",
       "        vertical-align: middle;\n",
       "    }\n",
       "\n",
       "    .dataframe tbody tr th {\n",
       "        vertical-align: top;\n",
       "    }\n",
       "\n",
       "    .dataframe thead th {\n",
       "        text-align: right;\n",
       "    }\n",
       "</style>\n",
       "<table border=\"1\" class=\"dataframe\">\n",
       "  <thead>\n",
       "    <tr style=\"text-align: right;\">\n",
       "      <th></th>\n",
       "      <th>Checking_Balance</th>\n",
       "      <th>Loan_Duration_In_Month</th>\n",
       "      <th>Credit_History</th>\n",
       "      <th>Loan_Purpose</th>\n",
       "      <th>Credit_Amount</th>\n",
       "      <th>Saving_Account_Balance</th>\n",
       "      <th>Present_Employment_Since</th>\n",
       "      <th>Installment_Rent_In_Percent_Of_Income</th>\n",
       "      <th>Present_Residual_Since</th>\n",
       "      <th>Age</th>\n",
       "      <th>Other_Installment_Plans</th>\n",
       "      <th>Housing_Status</th>\n",
       "      <th>Number_Of_Existing_Loan_Installment</th>\n",
       "      <th>Job</th>\n",
       "      <th>Number_Of_Person_Financially_Depend_to_debtor</th>\n",
       "      <th>Phone_Have_Or_Not</th>\n",
       "      <th>Credit_Risk</th>\n",
       "    </tr>\n",
       "  </thead>\n",
       "  <tbody>\n",
       "    <tr>\n",
       "      <th>0</th>\n",
       "      <td>&lt; 0 DM</td>\n",
       "      <td>6</td>\n",
       "      <td>critical</td>\n",
       "      <td>furniture/appliances</td>\n",
       "      <td>1169</td>\n",
       "      <td>unknown</td>\n",
       "      <td>&gt; 7 years</td>\n",
       "      <td>&lt;= 20%</td>\n",
       "      <td>&gt; 7 yrs</td>\n",
       "      <td>67</td>\n",
       "      <td>none</td>\n",
       "      <td>own</td>\n",
       "      <td>2 - 3</td>\n",
       "      <td>skilled</td>\n",
       "      <td>&gt;= 3 people</td>\n",
       "      <td>yes</td>\n",
       "      <td>Good Risk</td>\n",
       "    </tr>\n",
       "    <tr>\n",
       "      <th>1</th>\n",
       "      <td>1 - 200 DM</td>\n",
       "      <td>48</td>\n",
       "      <td>good</td>\n",
       "      <td>furniture/appliances</td>\n",
       "      <td>5951</td>\n",
       "      <td>&lt; 100 DM</td>\n",
       "      <td>1 - 4 years</td>\n",
       "      <td>25% - 35%</td>\n",
       "      <td>1 - 4 yrs</td>\n",
       "      <td>22</td>\n",
       "      <td>none</td>\n",
       "      <td>own</td>\n",
       "      <td>1</td>\n",
       "      <td>skilled</td>\n",
       "      <td>&gt;= 3 people</td>\n",
       "      <td>no</td>\n",
       "      <td>Bad Risk</td>\n",
       "    </tr>\n",
       "    <tr>\n",
       "      <th>2</th>\n",
       "      <td>unknown</td>\n",
       "      <td>12</td>\n",
       "      <td>critical</td>\n",
       "      <td>education</td>\n",
       "      <td>2096</td>\n",
       "      <td>&lt; 100 DM</td>\n",
       "      <td>4 - 7 years</td>\n",
       "      <td>25% - 35%</td>\n",
       "      <td>4 - 7 yrs</td>\n",
       "      <td>49</td>\n",
       "      <td>none</td>\n",
       "      <td>own</td>\n",
       "      <td>1</td>\n",
       "      <td>unskilled</td>\n",
       "      <td>0 - 2 people</td>\n",
       "      <td>no</td>\n",
       "      <td>Good Risk</td>\n",
       "    </tr>\n",
       "    <tr>\n",
       "      <th>3</th>\n",
       "      <td>&lt; 0 DM</td>\n",
       "      <td>42</td>\n",
       "      <td>good</td>\n",
       "      <td>furniture/appliances</td>\n",
       "      <td>7882</td>\n",
       "      <td>&lt; 100 DM</td>\n",
       "      <td>4 - 7 years</td>\n",
       "      <td>25% - 35%</td>\n",
       "      <td>&gt; 7 yrs</td>\n",
       "      <td>45</td>\n",
       "      <td>none</td>\n",
       "      <td>other</td>\n",
       "      <td>1</td>\n",
       "      <td>skilled</td>\n",
       "      <td>0 - 2 people</td>\n",
       "      <td>no</td>\n",
       "      <td>Good Risk</td>\n",
       "    </tr>\n",
       "    <tr>\n",
       "      <th>4</th>\n",
       "      <td>&lt; 0 DM</td>\n",
       "      <td>24</td>\n",
       "      <td>poor</td>\n",
       "      <td>car(new)</td>\n",
       "      <td>4870</td>\n",
       "      <td>&lt; 100 DM</td>\n",
       "      <td>1 - 4 years</td>\n",
       "      <td>25% - 20%</td>\n",
       "      <td>&gt; 7 yrs</td>\n",
       "      <td>53</td>\n",
       "      <td>none</td>\n",
       "      <td>other</td>\n",
       "      <td>2 - 3</td>\n",
       "      <td>skilled</td>\n",
       "      <td>0 - 2 people</td>\n",
       "      <td>no</td>\n",
       "      <td>Bad Risk</td>\n",
       "    </tr>\n",
       "  </tbody>\n",
       "</table>\n",
       "</div>"
      ],
      "text/plain": [
       "  Checking_Balance  Loan_Duration_In_Month Credit_History  \\\n",
       "0           < 0 DM                       6       critical   \n",
       "1       1 - 200 DM                      48           good   \n",
       "2          unknown                      12       critical   \n",
       "3           < 0 DM                      42           good   \n",
       "4           < 0 DM                      24           poor   \n",
       "\n",
       "           Loan_Purpose  Credit_Amount Saving_Account_Balance  \\\n",
       "0  furniture/appliances           1169                unknown   \n",
       "1  furniture/appliances           5951               < 100 DM   \n",
       "2             education           2096               < 100 DM   \n",
       "3  furniture/appliances           7882               < 100 DM   \n",
       "4              car(new)           4870               < 100 DM   \n",
       "\n",
       "  Present_Employment_Since Installment_Rent_In_Percent_Of_Income  \\\n",
       "0                > 7 years                                <= 20%   \n",
       "1              1 - 4 years                             25% - 35%   \n",
       "2              4 - 7 years                             25% - 35%   \n",
       "3              4 - 7 years                             25% - 35%   \n",
       "4              1 - 4 years                             25% - 20%   \n",
       "\n",
       "  Present_Residual_Since  Age Other_Installment_Plans Housing_Status  \\\n",
       "0                > 7 yrs   67                    none            own   \n",
       "1              1 - 4 yrs   22                    none            own   \n",
       "2              4 - 7 yrs   49                    none            own   \n",
       "3                > 7 yrs   45                    none          other   \n",
       "4                > 7 yrs   53                    none          other   \n",
       "\n",
       "  Number_Of_Existing_Loan_Installment        Job  \\\n",
       "0                               2 - 3    skilled   \n",
       "1                                   1    skilled   \n",
       "2                                   1  unskilled   \n",
       "3                                   1    skilled   \n",
       "4                               2 - 3    skilled   \n",
       "\n",
       "  Number_Of_Person_Financially_Depend_to_debtor Phone_Have_Or_Not Credit_Risk  \n",
       "0                                   >= 3 people               yes   Good Risk  \n",
       "1                                   >= 3 people                no    Bad Risk  \n",
       "2                                  0 - 2 people                no   Good Risk  \n",
       "3                                  0 - 2 people                no   Good Risk  \n",
       "4                                  0 - 2 people                no    Bad Risk  "
      ]
     },
     "execution_count": 20,
     "metadata": {},
     "output_type": "execute_result"
    }
   ],
   "source": [
    "df_credit.head()"
   ]
  },
  {
   "cell_type": "code",
   "execution_count": null,
   "id": "deab88d9",
   "metadata": {},
   "outputs": [],
   "source": [
    "#credit history and age\n",
    "# age and phone\n",
    "#Credit_History and Housing_Status\n",
    "#Credit_History and Number_Of_Person_Financially_Depend_to_debtor"
   ]
  },
  {
   "cell_type": "code",
   "execution_count": 5,
   "id": "42589b96",
   "metadata": {},
   "outputs": [
    {
     "data": {
      "text/plain": [
       "<AxesSubplot:xlabel='Phone_Have_Or_Not', ylabel='Age'>"
      ]
     },
     "execution_count": 5,
     "metadata": {},
     "output_type": "execute_result"
    },
    {
     "data": {
      "image/png": "[encoded data removed]",
      "text/plain": [
       "<Figure size 432x288 with 1 Axes>"
      ]
     },
     "metadata": {
      "needs_background": "light"
     },
     "output_type": "display_data"
    }
   ],
   "source": [
    "sns.violinplot(x='Phone_Have_Or_Not',y='Age',palette='prism',gridsize=10,saturation=0.40,data=df_credit)"
   ]
  },
  {
   "cell_type": "code",
   "execution_count": 6,
   "id": "e70b3925",
   "metadata": {},
   "outputs": [
    {
     "data": {
      "text/plain": [
       "<AxesSubplot:xlabel='Housing_Status', ylabel='Credit_Amount'>"
      ]
     },
     "execution_count": 6,
     "metadata": {},
     "output_type": "execute_result"
    },
    {
     "data": {
      "image/png": "[encoded data removed]",
      "text/plain": [
       "<Figure size 432x288 with 1 Axes>"
      ]
     },
     "metadata": {
      "needs_background": "light"
     },
     "output_type": "display_data"
    }
   ],
   "source": [
    "sns.stripplot(x='Housing_Status',y='Credit_Amount',palette='hls',data=df_credit)"
   ]
  },
  {
   "cell_type": "code",
   "execution_count": 8,
   "id": "711b650e",
   "metadata": {},
   "outputs": [
    {
     "data": {
      "text/plain": [
       "<seaborn.axisgrid.JointGrid at 0x2a6eddab8e0>"
      ]
     },
     "execution_count": 8,
     "metadata": {},
     "output_type": "execute_result"
    },
    {
     "data": {
      "text/plain": [
       "<Figure size 1080x1440 with 0 Axes>"
      ]
     },
     "metadata": {},
     "output_type": "display_data"
    },
    {
     "data": {
      "image/png": "[encoded data removed]",
      "text/plain": [
       "<Figure size 432x432 with 3 Axes>"
      ]
     },
     "metadata": {},
     "output_type": "display_data"
    }
   ],
   "source": [
    "plt.style.use(\"seaborn\")\n",
    "plt.figure(figsize=(15,20))\n",
    "sns.jointplot(x='Age',y='Credit_History',color='teal',data=df_credit)"
   ]
  },
  {
   "cell_type": "code",
   "execution_count": 6,
   "id": "56959876",
   "metadata": {},
   "outputs": [
    {
     "data": {
      "text/plain": [
       "<AxesSubplot:xlabel='Number_Of_Person_Financially_Depend_to_debtor', ylabel='Credit_Amount'>"
      ]
     },
     "execution_count": 6,
     "metadata": {},
     "output_type": "execute_result"
    },
    {
     "data": {
      "image/png": "[encoded data removed]",
      "text/plain": [
       "<Figure size 432x288 with 1 Axes>"
      ]
     },
     "metadata": {
      "needs_background": "light"
     },
     "output_type": "display_data"
    }
   ],
   "source": [
    "#plt.style.use(\"seaborn-talk\")\n",
    "sns.stripplot(x='Number_Of_Person_Financially_Depend_to_debtor',y='Credit_Amount',palette='inferno',data=df_credit)"
   ]
  },
  {
   "cell_type": "markdown",
   "id": "f5c7ea06",
   "metadata": {},
   "source": [
    "# Multivariant Analysis"
   ]
  },
  {
   "cell_type": "code",
   "execution_count": 7,
   "id": "4ced9700",
   "metadata": {},
   "outputs": [
    {
     "data": {
      "text/plain": [
       "<AxesSubplot:>"
      ]
     },
     "execution_count": 7,
     "metadata": {},
     "output_type": "execute_result"
    },
    {
     "data": {
      "image/png": "[encoded data removed]",
      "text/plain": [
       "<Figure size 432x288 with 2 Axes>"
      ]
     },
     "metadata": {
      "needs_background": "light"
     },
     "output_type": "display_data"
    }
   ],
   "source": [
    "sns.heatmap(df_credit.corr(),annot=True)"
   ]
  },
  {
   "cell_type": "code",
   "execution_count": 24,
   "id": "08cf047e",
   "metadata": {},
   "outputs": [
    {
     "data": {
      "text/plain": [
       "<seaborn.axisgrid.PairGrid at 0x149b4923d90>"
      ]
     },
     "execution_count": 24,
     "metadata": {},
     "output_type": "execute_result"
    },
    {
     "data": {
      "image/png": "[encoded data removed]",
      "text/plain": [
       "<Figure size 626x540 with 12 Axes>"
      ]
     },
     "metadata": {
      "needs_background": "light"
     },
     "output_type": "display_data"
    }
   ],
   "source": [
    "sns.pairplot(hue='Credit_Risk',palette='CMRmap',data=df_credit)"
   ]
  },
  {
   "cell_type": "code",
   "execution_count": 42,
   "id": "5d7e3c72",
   "metadata": {},
   "outputs": [
    {
     "data": {
      "text/plain": [
       "<AxesSubplot:xlabel='Installment_Rent_In_Percent_Of_Income', ylabel='Credit_Amount'>"
      ]
     },
     "execution_count": 42,
     "metadata": {},
     "output_type": "execute_result"
    },
    {
     "data": {
      "image/png": "[encoded data removed]",
      "text/plain": [
       "<Figure size 720x576 with 1 Axes>"
      ]
     },
     "metadata": {
      "needs_background": "light"
     },
     "output_type": "display_data"
    }
   ],
   "source": [
    "plt.figure(figsize=(10,8))\n",
    "sns.barplot(x='Installment_Rent_In_Percent_Of_Income',y='Credit_Amount',hue='Phone_Have_Or_Not',palette='flare',data=df_credit)"
   ]
  },
  {
   "cell_type": "code",
   "execution_count": 60,
   "id": "eb0fe3f2",
   "metadata": {},
   "outputs": [
    {
     "data": {
      "text/html": [
       "<style type=\"text/css\">\n",
       "#T_b5370_row0_col0 {\n",
       "  background-color: #a4d0a4;\n",
       "  color: #000000;\n",
       "}\n",
       "#T_b5370_row0_col1, #T_b5370_row3_col1 {\n",
       "  background-color: #d6e9d6;\n",
       "  color: #000000;\n",
       "}\n",
       "#T_b5370_row0_col2 {\n",
       "  background-color: #cae3ca;\n",
       "  color: #000000;\n",
       "}\n",
       "#T_b5370_row0_col3 {\n",
       "  background-color: #beddbe;\n",
       "  color: #000000;\n",
       "}\n",
       "#T_b5370_row1_col0 {\n",
       "  background-color: #4ba54b;\n",
       "  color: #f1f1f1;\n",
       "}\n",
       "#T_b5370_row1_col1 {\n",
       "  background-color: #329832;\n",
       "  color: #f1f1f1;\n",
       "}\n",
       "#T_b5370_row1_col2 {\n",
       "  background-color: #75b975;\n",
       "  color: #f1f1f1;\n",
       "}\n",
       "#T_b5370_row1_col3 {\n",
       "  background-color: #45a245;\n",
       "  color: #f1f1f1;\n",
       "}\n",
       "#T_b5370_row2_col0, #T_b5370_row2_col1, #T_b5370_row2_col2, #T_b5370_row2_col3, #T_b5370_row5_col2 {\n",
       "  background-color: #ebf3eb;\n",
       "  color: #000000;\n",
       "}\n",
       "#T_b5370_row3_col0 {\n",
       "  background-color: #d7e9d7;\n",
       "  color: #000000;\n",
       "}\n",
       "#T_b5370_row3_col2 {\n",
       "  background-color: #d1e6d1;\n",
       "  color: #000000;\n",
       "}\n",
       "#T_b5370_row3_col3 {\n",
       "  background-color: #cee5ce;\n",
       "  color: #000000;\n",
       "}\n",
       "#T_b5370_row4_col0, #T_b5370_row4_col1, #T_b5370_row4_col2, #T_b5370_row4_col3 {\n",
       "  background-color: #008000;\n",
       "  color: #f1f1f1;\n",
       "}\n",
       "#T_b5370_row5_col0 {\n",
       "  background-color: #e7f1e7;\n",
       "  color: #000000;\n",
       "}\n",
       "#T_b5370_row5_col1 {\n",
       "  background-color: #e9f2e9;\n",
       "  color: #000000;\n",
       "}\n",
       "#T_b5370_row5_col3 {\n",
       "  background-color: #e2efe2;\n",
       "  color: #000000;\n",
       "}\n",
       "</style>\n",
       "<table id=\"T_b5370\">\n",
       "  <thead>\n",
       "    <tr>\n",
       "      <th class=\"index_name level0\" >Checking_Balance</th>\n",
       "      <th id=\"T_b5370_level0_col0\" class=\"col_heading level0 col0\" >1 - 200 DM</th>\n",
       "      <th id=\"T_b5370_level0_col1\" class=\"col_heading level0 col1\" >< 0 DM</th>\n",
       "      <th id=\"T_b5370_level0_col2\" class=\"col_heading level0 col2\" >> 200 DM</th>\n",
       "      <th id=\"T_b5370_level0_col3\" class=\"col_heading level0 col3\" >unknown</th>\n",
       "    </tr>\n",
       "    <tr>\n",
       "      <th class=\"index_name level0\" >Loan_Purpose</th>\n",
       "      <th class=\"blank col0\" >&nbsp;</th>\n",
       "      <th class=\"blank col1\" >&nbsp;</th>\n",
       "      <th class=\"blank col2\" >&nbsp;</th>\n",
       "      <th class=\"blank col3\" >&nbsp;</th>\n",
       "    </tr>\n",
       "  </thead>\n",
       "  <tbody>\n",
       "    <tr>\n",
       "      <th id=\"T_b5370_level0_row0\" class=\"row_heading level0 row0\" >business</th>\n",
       "      <td id=\"T_b5370_row0_col0\" class=\"data row0 col0\" >40</td>\n",
       "      <td id=\"T_b5370_row0_col1\" class=\"data row0 col1\" >15</td>\n",
       "      <td id=\"T_b5370_row0_col2\" class=\"data row0 col2\" >5</td>\n",
       "      <td id=\"T_b5370_row0_col3\" class=\"data row0 col3\" >37</td>\n",
       "    </tr>\n",
       "    <tr>\n",
       "      <th id=\"T_b5370_level0_row1\" class=\"row_heading level0 row1\" >car(new)</th>\n",
       "      <td id=\"T_b5370_row1_col0\" class=\"data row1 col0\" >81</td>\n",
       "      <td id=\"T_b5370_row1_col1\" class=\"data row1 col1\" >104</td>\n",
       "      <td id=\"T_b5370_row1_col2\" class=\"data row1 col2\" >18</td>\n",
       "      <td id=\"T_b5370_row1_col3\" class=\"data row1 col3\" >134</td>\n",
       "    </tr>\n",
       "    <tr>\n",
       "      <th id=\"T_b5370_level0_row2\" class=\"row_heading level0 row2\" >car(old)</th>\n",
       "      <td id=\"T_b5370_row2_col0\" class=\"data row2 col0\" >7</td>\n",
       "      <td id=\"T_b5370_row2_col1\" class=\"data row2 col1\" >4</td>\n",
       "      <td id=\"T_b5370_row2_col2\" class=\"data row2 col2\" >0</td>\n",
       "      <td id=\"T_b5370_row2_col3\" class=\"data row2 col3\" >1</td>\n",
       "    </tr>\n",
       "    <tr>\n",
       "      <th id=\"T_b5370_level0_row3\" class=\"row_heading level0 row3\" >education</th>\n",
       "      <td id=\"T_b5370_row3_col0\" class=\"data row3 col0\" >16</td>\n",
       "      <td id=\"T_b5370_row3_col1\" class=\"data row3 col1\" >15</td>\n",
       "      <td id=\"T_b5370_row3_col2\" class=\"data row3 col2\" >4</td>\n",
       "      <td id=\"T_b5370_row3_col3\" class=\"data row3 col3\" >24</td>\n",
       "    </tr>\n",
       "    <tr>\n",
       "      <th id=\"T_b5370_level0_row4\" class=\"row_heading level0 row4\" >furniture/appliances</th>\n",
       "      <td id=\"T_b5370_row4_col0\" class=\"data row4 col0\" >116</td>\n",
       "      <td id=\"T_b5370_row4_col1\" class=\"data row4 col1\" >131</td>\n",
       "      <td id=\"T_b5370_row4_col2\" class=\"data row4 col2\" >36</td>\n",
       "      <td id=\"T_b5370_row4_col3\" class=\"data row4 col3\" >190</td>\n",
       "    </tr>\n",
       "    <tr>\n",
       "      <th id=\"T_b5370_level0_row5\" class=\"row_heading level0 row5\" >renovations</th>\n",
       "      <td id=\"T_b5370_row5_col0\" class=\"data row5 col0\" >9</td>\n",
       "      <td id=\"T_b5370_row5_col1\" class=\"data row5 col1\" >5</td>\n",
       "      <td id=\"T_b5370_row5_col2\" class=\"data row5 col2\" >0</td>\n",
       "      <td id=\"T_b5370_row5_col3\" class=\"data row5 col3\" >8</td>\n",
       "    </tr>\n",
       "  </tbody>\n",
       "</table>\n"
      ],
      "text/plain": [
       "<pandas.io.formats.style.Styler at 0x149bc0bf100>"
      ]
     },
     "execution_count": 60,
     "metadata": {},
     "output_type": "execute_result"
    }
   ],
   "source": [
    "date_int = [\"Loan_Purpose\", 'Checking_Balance','Saving_Account_Balance']\n",
    "cm = sns.light_palette(\"green\", as_cmap=True)\n",
    "pd.crosstab(df_credit[date_int[0]],df_credit[date_int[1]]).style.background_gradient(cmap = cm)\n"
   ]
  },
  {
   "cell_type": "code",
   "execution_count": 54,
   "id": "558cefcb",
   "metadata": {},
   "outputs": [
    {
     "data": {
      "text/html": [
       "<style type=\"text/css\">\n",
       "#T_57681_row0_col0 {\n",
       "  background-color: #8cc58c;\n",
       "  color: #000000;\n",
       "}\n",
       "#T_57681_row0_col1 {\n",
       "  background-color: #d2e7d2;\n",
       "  color: #000000;\n",
       "}\n",
       "#T_57681_row0_col2, #T_57681_row0_col4 {\n",
       "  background-color: #c5e0c5;\n",
       "  color: #000000;\n",
       "}\n",
       "#T_57681_row0_col3 {\n",
       "  background-color: #a5d1a5;\n",
       "  color: #000000;\n",
       "}\n",
       "#T_57681_row1_col0, #T_57681_row4_col1, #T_57681_row4_col2, #T_57681_row4_col3, #T_57681_row4_col4 {\n",
       "  background-color: #008000;\n",
       "  color: #f1f1f1;\n",
       "}\n",
       "#T_57681_row1_col1 {\n",
       "  background-color: #78bb78;\n",
       "  color: #000000;\n",
       "}\n",
       "#T_57681_row1_col2 {\n",
       "  background-color: #5bad5b;\n",
       "  color: #f1f1f1;\n",
       "}\n",
       "#T_57681_row1_col3 {\n",
       "  background-color: #178b17;\n",
       "  color: #f1f1f1;\n",
       "}\n",
       "#T_57681_row1_col4 {\n",
       "  background-color: #068306;\n",
       "  color: #f1f1f1;\n",
       "}\n",
       "#T_57681_row2_col0, #T_57681_row2_col1, #T_57681_row2_col2, #T_57681_row2_col3, #T_57681_row2_col4, #T_57681_row5_col4 {\n",
       "  background-color: #ebf3eb;\n",
       "  color: #000000;\n",
       "}\n",
       "#T_57681_row3_col0, #T_57681_row3_col1 {\n",
       "  background-color: #d8ead8;\n",
       "  color: #000000;\n",
       "}\n",
       "#T_57681_row3_col2 {\n",
       "  background-color: #d6e9d6;\n",
       "  color: #000000;\n",
       "}\n",
       "#T_57681_row3_col3, #T_57681_row5_col3 {\n",
       "  background-color: #d4e8d4;\n",
       "  color: #000000;\n",
       "}\n",
       "#T_57681_row3_col4 {\n",
       "  background-color: #c2dfc2;\n",
       "  color: #000000;\n",
       "}\n",
       "#T_57681_row4_col0 {\n",
       "  background-color: #0c860c;\n",
       "  color: #f1f1f1;\n",
       "}\n",
       "#T_57681_row5_col0, #T_57681_row5_col1 {\n",
       "  background-color: #e5f0e5;\n",
       "  color: #000000;\n",
       "}\n",
       "#T_57681_row5_col2 {\n",
       "  background-color: #e6f1e6;\n",
       "  color: #000000;\n",
       "}\n",
       "</style>\n",
       "<table id=\"T_57681\">\n",
       "  <thead>\n",
       "    <tr>\n",
       "      <th class=\"index_name level0\" >Saving_Account_Balance</th>\n",
       "      <th id=\"T_57681_level0_col0\" class=\"col_heading level0 col0\" >100 - 500 DM</th>\n",
       "      <th id=\"T_57681_level0_col1\" class=\"col_heading level0 col1\" >500 - 1000 DM</th>\n",
       "      <th id=\"T_57681_level0_col2\" class=\"col_heading level0 col2\" >< 100 DM</th>\n",
       "      <th id=\"T_57681_level0_col3\" class=\"col_heading level0 col3\" >> 1000 DM</th>\n",
       "      <th id=\"T_57681_level0_col4\" class=\"col_heading level0 col4\" >unknown</th>\n",
       "    </tr>\n",
       "    <tr>\n",
       "      <th class=\"index_name level0\" >Loan_Purpose</th>\n",
       "      <th class=\"blank col0\" >&nbsp;</th>\n",
       "      <th class=\"blank col1\" >&nbsp;</th>\n",
       "      <th class=\"blank col2\" >&nbsp;</th>\n",
       "      <th class=\"blank col3\" >&nbsp;</th>\n",
       "      <th class=\"blank col4\" >&nbsp;</th>\n",
       "    </tr>\n",
       "  </thead>\n",
       "  <tbody>\n",
       "    <tr>\n",
       "      <th id=\"T_57681_level0_row0\" class=\"row_heading level0 row0\" >business</th>\n",
       "      <td id=\"T_57681_row0_col0\" class=\"data row0 col0\" >17</td>\n",
       "      <td id=\"T_57681_row0_col1\" class=\"data row0 col1\" >4</td>\n",
       "      <td id=\"T_57681_row0_col2\" class=\"data row0 col2\" >56</td>\n",
       "      <td id=\"T_57681_row0_col3\" class=\"data row0 col3\" >6</td>\n",
       "      <td id=\"T_57681_row0_col4\" class=\"data row0 col4\" >14</td>\n",
       "    </tr>\n",
       "    <tr>\n",
       "      <th id=\"T_57681_level0_row1\" class=\"row_heading level0 row1\" >car(new)</th>\n",
       "      <td id=\"T_57681_row1_col0\" class=\"data row1 col0\" >39</td>\n",
       "      <td id=\"T_57681_row1_col1\" class=\"data row1 col1\" >18</td>\n",
       "      <td id=\"T_57681_row1_col2\" class=\"data row1 col2\" >188</td>\n",
       "      <td id=\"T_57681_row1_col3\" class=\"data row1 col3\" >18</td>\n",
       "      <td id=\"T_57681_row1_col4\" class=\"data row1 col4\" >74</td>\n",
       "    </tr>\n",
       "    <tr>\n",
       "      <th id=\"T_57681_level0_row2\" class=\"row_heading level0 row2\" >car(old)</th>\n",
       "      <td id=\"T_57681_row2_col0\" class=\"data row2 col0\" >2</td>\n",
       "      <td id=\"T_57681_row2_col1\" class=\"data row2 col1\" >0</td>\n",
       "      <td id=\"T_57681_row2_col2\" class=\"data row2 col2\" >8</td>\n",
       "      <td id=\"T_57681_row2_col3\" class=\"data row2 col3\" >0</td>\n",
       "      <td id=\"T_57681_row2_col4\" class=\"data row2 col4\" >2</td>\n",
       "    </tr>\n",
       "    <tr>\n",
       "      <th id=\"T_57681_level0_row3\" class=\"row_heading level0 row3\" >education</th>\n",
       "      <td id=\"T_57681_row3_col0\" class=\"data row3 col0\" >5</td>\n",
       "      <td id=\"T_57681_row3_col1\" class=\"data row3 col1\" >3</td>\n",
       "      <td id=\"T_57681_row3_col2\" class=\"data row3 col2\" >34</td>\n",
       "      <td id=\"T_57681_row3_col3\" class=\"data row3 col3\" >2</td>\n",
       "      <td id=\"T_57681_row3_col4\" class=\"data row3 col4\" >15</td>\n",
       "    </tr>\n",
       "    <tr>\n",
       "      <th id=\"T_57681_level0_row4\" class=\"row_heading level0 row4\" >furniture/appliances</th>\n",
       "      <td id=\"T_57681_row4_col0\" class=\"data row4 col0\" >37</td>\n",
       "      <td id=\"T_57681_row4_col1\" class=\"data row4 col1\" >37</td>\n",
       "      <td id=\"T_57681_row4_col2\" class=\"data row4 col2\" >303</td>\n",
       "      <td id=\"T_57681_row4_col3\" class=\"data row4 col3\" >20</td>\n",
       "      <td id=\"T_57681_row4_col4\" class=\"data row4 col4\" >76</td>\n",
       "    </tr>\n",
       "    <tr>\n",
       "      <th id=\"T_57681_level0_row5\" class=\"row_heading level0 row5\" >renovations</th>\n",
       "      <td id=\"T_57681_row5_col0\" class=\"data row5 col0\" >3</td>\n",
       "      <td id=\"T_57681_row5_col1\" class=\"data row5 col1\" >1</td>\n",
       "      <td id=\"T_57681_row5_col2\" class=\"data row5 col2\" >14</td>\n",
       "      <td id=\"T_57681_row5_col3\" class=\"data row5 col3\" >2</td>\n",
       "      <td id=\"T_57681_row5_col4\" class=\"data row5 col4\" >2</td>\n",
       "    </tr>\n",
       "  </tbody>\n",
       "</table>\n"
      ],
      "text/plain": [
       "<pandas.io.formats.style.Styler at 0x149bbd83af0>"
      ]
     },
     "execution_count": 54,
     "metadata": {},
     "output_type": "execute_result"
    }
   ],
   "source": [
    "pd.crosstab(df_credit[date_int[0]],df_credit[date_int[2]]).style.background_gradient(cmap = cm)"
   ]
  },
  {
   "cell_type": "markdown",
   "id": "6577cded",
   "metadata": {},
   "source": [
    "# Filter numerical and categorical variables"
   ]
  },
  {
   "cell_type": "code",
   "execution_count": 61,
   "id": "4a6375f8",
   "metadata": {},
   "outputs": [
    {
     "data": {
      "text/html": [
       "<div>\n",
       "<style scoped>\n",
       "    .dataframe tbody tr th:only-of-type {\n",
       "        vertical-align: middle;\n",
       "    }\n",
       "\n",
       "    .dataframe tbody tr th {\n",
       "        vertical-align: top;\n",
       "    }\n",
       "\n",
       "    .dataframe thead th {\n",
       "        text-align: right;\n",
       "    }\n",
       "</style>\n",
       "<table border=\"1\" class=\"dataframe\">\n",
       "  <thead>\n",
       "    <tr style=\"text-align: right;\">\n",
       "      <th></th>\n",
       "      <th>Loan_Duration_In_Month</th>\n",
       "      <th>Credit_Amount</th>\n",
       "      <th>Age</th>\n",
       "    </tr>\n",
       "  </thead>\n",
       "  <tbody>\n",
       "    <tr>\n",
       "      <th>0</th>\n",
       "      <td>6</td>\n",
       "      <td>1169</td>\n",
       "      <td>67</td>\n",
       "    </tr>\n",
       "    <tr>\n",
       "      <th>1</th>\n",
       "      <td>48</td>\n",
       "      <td>5951</td>\n",
       "      <td>22</td>\n",
       "    </tr>\n",
       "    <tr>\n",
       "      <th>2</th>\n",
       "      <td>12</td>\n",
       "      <td>2096</td>\n",
       "      <td>49</td>\n",
       "    </tr>\n",
       "    <tr>\n",
       "      <th>3</th>\n",
       "      <td>42</td>\n",
       "      <td>7882</td>\n",
       "      <td>45</td>\n",
       "    </tr>\n",
       "    <tr>\n",
       "      <th>4</th>\n",
       "      <td>24</td>\n",
       "      <td>4870</td>\n",
       "      <td>53</td>\n",
       "    </tr>\n",
       "  </tbody>\n",
       "</table>\n",
       "</div>"
      ],
      "text/plain": [
       "   Loan_Duration_In_Month  Credit_Amount  Age\n",
       "0                       6           1169   67\n",
       "1                      48           5951   22\n",
       "2                      12           2096   49\n",
       "3                      42           7882   45\n",
       "4                      24           4870   53"
      ]
     },
     "execution_count": 61,
     "metadata": {},
     "output_type": "execute_result"
    }
   ],
   "source": [
    "#categorical\n",
    "df_Cat=df_credit.select_dtypes(include=['object'])\n",
    "df_Cat.head()\n",
    "\n",
    "#numeric\n",
    "df_num=df_credit.select_dtypes(include=['number']).reset_index(drop=True)\n",
    "df_num.head()"
   ]
  },
  {
   "cell_type": "markdown",
   "id": "c307e4e9",
   "metadata": {},
   "source": [
    "# Encode Data"
   ]
  },
  {
   "cell_type": "code",
   "execution_count": 62,
   "id": "a4aec9d9",
   "metadata": {},
   "outputs": [
    {
     "data": {
      "text/html": [
       "<div>\n",
       "<style scoped>\n",
       "    .dataframe tbody tr th:only-of-type {\n",
       "        vertical-align: middle;\n",
       "    }\n",
       "\n",
       "    .dataframe tbody tr th {\n",
       "        vertical-align: top;\n",
       "    }\n",
       "\n",
       "    .dataframe thead th {\n",
       "        text-align: right;\n",
       "    }\n",
       "</style>\n",
       "<table border=\"1\" class=\"dataframe\">\n",
       "  <thead>\n",
       "    <tr style=\"text-align: right;\">\n",
       "      <th></th>\n",
       "      <th>Checking_Balance</th>\n",
       "      <th>Credit_History</th>\n",
       "      <th>Saving_Account_Balance</th>\n",
       "      <th>Present_Employment_Since</th>\n",
       "      <th>Installment_Rent_In_Percent_Of_Income</th>\n",
       "      <th>Present_Residual_Since</th>\n",
       "      <th>Number_Of_Existing_Loan_Installment</th>\n",
       "      <th>Job</th>\n",
       "      <th>Number_Of_Person_Financially_Depend_to_debtor</th>\n",
       "    </tr>\n",
       "  </thead>\n",
       "  <tbody>\n",
       "    <tr>\n",
       "      <th>0</th>\n",
       "      <td>&lt; 0 DM</td>\n",
       "      <td>critical</td>\n",
       "      <td>unknown</td>\n",
       "      <td>&gt; 7 years</td>\n",
       "      <td>&lt;= 20%</td>\n",
       "      <td>&gt; 7 yrs</td>\n",
       "      <td>2 - 3</td>\n",
       "      <td>skilled</td>\n",
       "      <td>&gt;= 3 people</td>\n",
       "    </tr>\n",
       "    <tr>\n",
       "      <th>1</th>\n",
       "      <td>1 - 200 DM</td>\n",
       "      <td>good</td>\n",
       "      <td>&lt; 100 DM</td>\n",
       "      <td>1 - 4 years</td>\n",
       "      <td>25% - 35%</td>\n",
       "      <td>1 - 4 yrs</td>\n",
       "      <td>1</td>\n",
       "      <td>skilled</td>\n",
       "      <td>&gt;= 3 people</td>\n",
       "    </tr>\n",
       "    <tr>\n",
       "      <th>2</th>\n",
       "      <td>unknown</td>\n",
       "      <td>critical</td>\n",
       "      <td>&lt; 100 DM</td>\n",
       "      <td>4 - 7 years</td>\n",
       "      <td>25% - 35%</td>\n",
       "      <td>4 - 7 yrs</td>\n",
       "      <td>1</td>\n",
       "      <td>unskilled</td>\n",
       "      <td>0 - 2 people</td>\n",
       "    </tr>\n",
       "    <tr>\n",
       "      <th>3</th>\n",
       "      <td>&lt; 0 DM</td>\n",
       "      <td>good</td>\n",
       "      <td>&lt; 100 DM</td>\n",
       "      <td>4 - 7 years</td>\n",
       "      <td>25% - 35%</td>\n",
       "      <td>&gt; 7 yrs</td>\n",
       "      <td>1</td>\n",
       "      <td>skilled</td>\n",
       "      <td>0 - 2 people</td>\n",
       "    </tr>\n",
       "    <tr>\n",
       "      <th>4</th>\n",
       "      <td>&lt; 0 DM</td>\n",
       "      <td>poor</td>\n",
       "      <td>&lt; 100 DM</td>\n",
       "      <td>1 - 4 years</td>\n",
       "      <td>25% - 20%</td>\n",
       "      <td>&gt; 7 yrs</td>\n",
       "      <td>2 - 3</td>\n",
       "      <td>skilled</td>\n",
       "      <td>0 - 2 people</td>\n",
       "    </tr>\n",
       "  </tbody>\n",
       "</table>\n",
       "</div>"
      ],
      "text/plain": [
       "  Checking_Balance Credit_History Saving_Account_Balance  \\\n",
       "0           < 0 DM       critical                unknown   \n",
       "1       1 - 200 DM           good               < 100 DM   \n",
       "2          unknown       critical               < 100 DM   \n",
       "3           < 0 DM           good               < 100 DM   \n",
       "4           < 0 DM           poor               < 100 DM   \n",
       "\n",
       "  Present_Employment_Since Installment_Rent_In_Percent_Of_Income  \\\n",
       "0                > 7 years                                <= 20%   \n",
       "1              1 - 4 years                             25% - 35%   \n",
       "2              4 - 7 years                             25% - 35%   \n",
       "3              4 - 7 years                             25% - 35%   \n",
       "4              1 - 4 years                             25% - 20%   \n",
       "\n",
       "  Present_Residual_Since Number_Of_Existing_Loan_Installment        Job  \\\n",
       "0                > 7 yrs                               2 - 3    skilled   \n",
       "1              1 - 4 yrs                                   1    skilled   \n",
       "2              4 - 7 yrs                                   1  unskilled   \n",
       "3                > 7 yrs                                   1    skilled   \n",
       "4                > 7 yrs                               2 - 3    skilled   \n",
       "\n",
       "  Number_Of_Person_Financially_Depend_to_debtor  \n",
       "0                                   >= 3 people  \n",
       "1                                   >= 3 people  \n",
       "2                                  0 - 2 people  \n",
       "3                                  0 - 2 people  \n",
       "4                                  0 - 2 people  "
      ]
     },
     "execution_count": 62,
     "metadata": {},
     "output_type": "execute_result"
    }
   ],
   "source": [
    "df_LabelEncode=df_Cat[['Checking_Balance','Credit_History','Saving_Account_Balance','Present_Employment_Since',\n",
    "                       'Installment_Rent_In_Percent_Of_Income',\n",
    "                       'Present_Residual_Since','Number_Of_Existing_Loan_Installment','Job',\n",
    "                       'Number_Of_Person_Financially_Depend_to_debtor']]\n",
    "df_LabelEncode.head()"
   ]
  },
  {
   "cell_type": "code",
   "execution_count": 63,
   "id": "cdb761cb",
   "metadata": {},
   "outputs": [
    {
     "data": {
      "text/html": [
       "<div>\n",
       "<style scoped>\n",
       "    .dataframe tbody tr th:only-of-type {\n",
       "        vertical-align: middle;\n",
       "    }\n",
       "\n",
       "    .dataframe tbody tr th {\n",
       "        vertical-align: top;\n",
       "    }\n",
       "\n",
       "    .dataframe thead th {\n",
       "        text-align: right;\n",
       "    }\n",
       "</style>\n",
       "<table border=\"1\" class=\"dataframe\">\n",
       "  <thead>\n",
       "    <tr style=\"text-align: right;\">\n",
       "      <th></th>\n",
       "      <th>Checking_Balance</th>\n",
       "      <th>Credit_History</th>\n",
       "      <th>Saving_Account_Balance</th>\n",
       "      <th>Present_Employment_Since</th>\n",
       "      <th>Installment_Rent_In_Percent_Of_Income</th>\n",
       "      <th>Present_Residual_Since</th>\n",
       "      <th>Number_Of_Existing_Loan_Installment</th>\n",
       "      <th>Job</th>\n",
       "      <th>Number_Of_Person_Financially_Depend_to_debtor</th>\n",
       "    </tr>\n",
       "  </thead>\n",
       "  <tbody>\n",
       "    <tr>\n",
       "      <th>0</th>\n",
       "      <td>1</td>\n",
       "      <td>0</td>\n",
       "      <td>0</td>\n",
       "      <td>4</td>\n",
       "      <td>0</td>\n",
       "      <td>3</td>\n",
       "      <td>1</td>\n",
       "      <td>3</td>\n",
       "      <td>1</td>\n",
       "    </tr>\n",
       "    <tr>\n",
       "      <th>1</th>\n",
       "      <td>2</td>\n",
       "      <td>2</td>\n",
       "      <td>1</td>\n",
       "      <td>2</td>\n",
       "      <td>1</td>\n",
       "      <td>1</td>\n",
       "      <td>0</td>\n",
       "      <td>3</td>\n",
       "      <td>1</td>\n",
       "    </tr>\n",
       "    <tr>\n",
       "      <th>2</th>\n",
       "      <td>0</td>\n",
       "      <td>0</td>\n",
       "      <td>1</td>\n",
       "      <td>3</td>\n",
       "      <td>1</td>\n",
       "      <td>2</td>\n",
       "      <td>0</td>\n",
       "      <td>1</td>\n",
       "      <td>0</td>\n",
       "    </tr>\n",
       "    <tr>\n",
       "      <th>3</th>\n",
       "      <td>1</td>\n",
       "      <td>2</td>\n",
       "      <td>1</td>\n",
       "      <td>3</td>\n",
       "      <td>1</td>\n",
       "      <td>3</td>\n",
       "      <td>0</td>\n",
       "      <td>3</td>\n",
       "      <td>0</td>\n",
       "    </tr>\n",
       "    <tr>\n",
       "      <th>4</th>\n",
       "      <td>1</td>\n",
       "      <td>1</td>\n",
       "      <td>1</td>\n",
       "      <td>2</td>\n",
       "      <td>2</td>\n",
       "      <td>3</td>\n",
       "      <td>1</td>\n",
       "      <td>3</td>\n",
       "      <td>0</td>\n",
       "    </tr>\n",
       "    <tr>\n",
       "      <th>5</th>\n",
       "      <td>0</td>\n",
       "      <td>2</td>\n",
       "      <td>0</td>\n",
       "      <td>2</td>\n",
       "      <td>1</td>\n",
       "      <td>3</td>\n",
       "      <td>0</td>\n",
       "      <td>1</td>\n",
       "      <td>0</td>\n",
       "    </tr>\n",
       "    <tr>\n",
       "      <th>6</th>\n",
       "      <td>0</td>\n",
       "      <td>2</td>\n",
       "      <td>2</td>\n",
       "      <td>4</td>\n",
       "      <td>2</td>\n",
       "      <td>3</td>\n",
       "      <td>0</td>\n",
       "      <td>3</td>\n",
       "      <td>1</td>\n",
       "    </tr>\n",
       "    <tr>\n",
       "      <th>7</th>\n",
       "      <td>2</td>\n",
       "      <td>2</td>\n",
       "      <td>1</td>\n",
       "      <td>2</td>\n",
       "      <td>1</td>\n",
       "      <td>1</td>\n",
       "      <td>0</td>\n",
       "      <td>2</td>\n",
       "      <td>1</td>\n",
       "    </tr>\n",
       "    <tr>\n",
       "      <th>8</th>\n",
       "      <td>0</td>\n",
       "      <td>2</td>\n",
       "      <td>3</td>\n",
       "      <td>3</td>\n",
       "      <td>1</td>\n",
       "      <td>3</td>\n",
       "      <td>0</td>\n",
       "      <td>1</td>\n",
       "      <td>1</td>\n",
       "    </tr>\n",
       "    <tr>\n",
       "      <th>9</th>\n",
       "      <td>2</td>\n",
       "      <td>0</td>\n",
       "      <td>1</td>\n",
       "      <td>0</td>\n",
       "      <td>0</td>\n",
       "      <td>1</td>\n",
       "      <td>1</td>\n",
       "      <td>2</td>\n",
       "      <td>1</td>\n",
       "    </tr>\n",
       "  </tbody>\n",
       "</table>\n",
       "</div>"
      ],
      "text/plain": [
       "   Checking_Balance  Credit_History  Saving_Account_Balance  \\\n",
       "0                 1               0                       0   \n",
       "1                 2               2                       1   \n",
       "2                 0               0                       1   \n",
       "3                 1               2                       1   \n",
       "4                 1               1                       1   \n",
       "5                 0               2                       0   \n",
       "6                 0               2                       2   \n",
       "7                 2               2                       1   \n",
       "8                 0               2                       3   \n",
       "9                 2               0                       1   \n",
       "\n",
       "   Present_Employment_Since  Installment_Rent_In_Percent_Of_Income  \\\n",
       "0                         4                                      0   \n",
       "1                         2                                      1   \n",
       "2                         3                                      1   \n",
       "3                         3                                      1   \n",
       "4                         2                                      2   \n",
       "5                         2                                      1   \n",
       "6                         4                                      2   \n",
       "7                         2                                      1   \n",
       "8                         3                                      1   \n",
       "9                         0                                      0   \n",
       "\n",
       "   Present_Residual_Since  Number_Of_Existing_Loan_Installment  Job  \\\n",
       "0                       3                                    1    3   \n",
       "1                       1                                    0    3   \n",
       "2                       2                                    0    1   \n",
       "3                       3                                    0    3   \n",
       "4                       3                                    1    3   \n",
       "5                       3                                    0    1   \n",
       "6                       3                                    0    3   \n",
       "7                       1                                    0    2   \n",
       "8                       3                                    0    1   \n",
       "9                       1                                    1    2   \n",
       "\n",
       "   Number_Of_Person_Financially_Depend_to_debtor  \n",
       "0                                              1  \n",
       "1                                              1  \n",
       "2                                              0  \n",
       "3                                              0  \n",
       "4                                              0  \n",
       "5                                              0  \n",
       "6                                              1  \n",
       "7                                              1  \n",
       "8                                              1  \n",
       "9                                              1  "
      ]
     },
     "execution_count": 63,
     "metadata": {},
     "output_type": "execute_result"
    }
   ],
   "source": [
    "import category_encoders as ce\n",
    "#Checking_Balance\n",
    "encoder= ce.OrdinalEncoder(cols=['Checking_Balance'],return_df=True,\n",
    "                           mapping=[{'col':'Checking_Balance',\n",
    "'mapping':{'unknown':0,'< 0 DM':1,'1 - 200 DM':2,'> 200 DM':3}}])\n",
    "df_LabelEncode.Checking_Balance=encoder.fit_transform(df_LabelEncode.Checking_Balance)\n",
    "\n",
    "#Credit_History\n",
    "encoder= ce.OrdinalEncoder(cols=['Credit_History'],return_df=True,\n",
    "                           mapping=[{'col':'Credit_History',\n",
    "'mapping':{'critical':0,'poor':1,'good':2,'very good':3,'perfect':4}}])\n",
    "df_LabelEncode.Credit_History=encoder.fit_transform(df_LabelEncode.Credit_History)\n",
    "\n",
    "#Saving_Account_Balance\n",
    "encoder= ce.OrdinalEncoder(cols=['Saving_Account_Balance'],return_df=True,\n",
    "                           mapping=[{'col':'Saving_Account_Balance',\n",
    "'mapping':{'unknown':0,'< 100 DM':1,'500 - 1000 DM':2,'> 1000 DM':3,'100 - 500 DM':4}}])\n",
    "df_LabelEncode.Saving_Account_Balance=encoder.fit_transform(df_LabelEncode.Saving_Account_Balance)\n",
    "\n",
    "#Present_Employment_Since\n",
    "encoder= ce.OrdinalEncoder(cols=['Present_Employment_Since'],return_df=True,\n",
    "                           mapping=[{'col':'Present_Employment_Since',\n",
    "'mapping':{'unemployed':0,'< 1 year':1,'1 - 4 years':2,'4 - 7 years':3,'> 7 years':4}}])\n",
    "df_LabelEncode.Present_Employment_Since=encoder.fit_transform(df_LabelEncode.Present_Employment_Since)\n",
    "\n",
    "#Installment_Rent_In_Percent_Of_Income\n",
    "encoder= ce.OrdinalEncoder(cols=['Installment_Rent_In_Percent_Of_Income'],return_df=True,\n",
    "                           mapping=[{'col':'Installment_Rent_In_Percent_Of_Income',\n",
    "'mapping':{'<= 20%':0,'25% - 35%':1,'25% - 20%':2,'>= 35%':3}}])\n",
    "df_LabelEncode.Installment_Rent_In_Percent_Of_Income=encoder.fit_transform(df_LabelEncode.Installment_Rent_In_Percent_Of_Income)\n",
    "\n",
    "#Present_Residual_Since\n",
    "encoder= ce.OrdinalEncoder(cols=['Present_Residual_Since'],return_df=True,\n",
    "                           mapping=[{'col':'Present_Residual_Since',\n",
    "'mapping':{' < 1 yrs':0,' 1 - 4 yrs':1,'4 - 7 yrs':2,' > 7 yrs':3}}])\n",
    "df_LabelEncode.Present_Residual_Since=encoder.fit_transform(df_LabelEncode.Present_Residual_Since)\n",
    "\n",
    "#Number_Of_Existing_Loan_Installment\n",
    "encoder= ce.OrdinalEncoder(cols=['Number_Of_Existing_Loan_Installment'],return_df=True,\n",
    "                           mapping=[{'col':'Number_Of_Existing_Loan_Installment',\n",
    "'mapping':{'1' :0,'2 - 3':1,'4 - 5':2,'>=6':3}}])\n",
    "df_LabelEncode.Number_Of_Existing_Loan_Installment=encoder.fit_transform(df_LabelEncode.Number_Of_Existing_Loan_Installment)\n",
    "\n",
    "#Job\n",
    "encoder= ce.OrdinalEncoder(cols=['Job'],return_df=True,\n",
    "                           mapping=[{'col':'Job',\n",
    "'mapping':{'unemployed' :0,'unskilled':1,'management':2,'skilled':3}}])\n",
    "df_LabelEncode.Job=encoder.fit_transform(df_LabelEncode.Job)\n",
    "\n",
    "#Number_Of_Person_Financially_Depend_to_debtor\n",
    "encoder= ce.OrdinalEncoder(cols=['Number_Of_Person_Financially_Depend_to_debtor'],return_df=True,\n",
    "                           mapping=[{'col':'Number_Of_Person_Financially_Depend_to_debtor',\n",
    "'mapping':{'0 - 2 people' :0,' >= 3 people':1}}])\n",
    "df_LabelEncode.Number_Of_Person_Financially_Depend_to_debtor=encoder.fit_transform(df_LabelEncode.Number_Of_Person_Financially_Depend_to_debtor)\n",
    "\n",
    "\n",
    "df_LabelEncode.head(10)"
   ]
  },
  {
   "cell_type": "code",
   "execution_count": 13,
   "id": "8f88d04e",
   "metadata": {},
   "outputs": [],
   "source": [
    "#pip install category_encoders"
   ]
  },
  {
   "cell_type": "code",
   "execution_count": 64,
   "id": "58f94699",
   "metadata": {},
   "outputs": [
    {
     "data": {
      "text/html": [
       "<div>\n",
       "<style scoped>\n",
       "    .dataframe tbody tr th:only-of-type {\n",
       "        vertical-align: middle;\n",
       "    }\n",
       "\n",
       "    .dataframe tbody tr th {\n",
       "        vertical-align: top;\n",
       "    }\n",
       "\n",
       "    .dataframe thead th {\n",
       "        text-align: right;\n",
       "    }\n",
       "</style>\n",
       "<table border=\"1\" class=\"dataframe\">\n",
       "  <thead>\n",
       "    <tr style=\"text-align: right;\">\n",
       "      <th></th>\n",
       "      <th>Loan_Purpose_car(new)</th>\n",
       "      <th>Loan_Purpose_car(old)</th>\n",
       "      <th>Loan_Purpose_education</th>\n",
       "      <th>Loan_Purpose_furniture/appliances</th>\n",
       "      <th>Loan_Purpose_renovations</th>\n",
       "      <th>Other_Installment_Plans_none</th>\n",
       "      <th>Other_Installment_Plans_store</th>\n",
       "      <th>Housing_Status_own</th>\n",
       "      <th>Housing_Status_rent</th>\n",
       "      <th>Phone_Have_Or_Not_yes</th>\n",
       "      <th>Credit_Risk_Good Risk</th>\n",
       "    </tr>\n",
       "  </thead>\n",
       "  <tbody>\n",
       "    <tr>\n",
       "      <th>0</th>\n",
       "      <td>0</td>\n",
       "      <td>0</td>\n",
       "      <td>0</td>\n",
       "      <td>1</td>\n",
       "      <td>0</td>\n",
       "      <td>1</td>\n",
       "      <td>0</td>\n",
       "      <td>1</td>\n",
       "      <td>0</td>\n",
       "      <td>1</td>\n",
       "      <td>1</td>\n",
       "    </tr>\n",
       "    <tr>\n",
       "      <th>1</th>\n",
       "      <td>0</td>\n",
       "      <td>0</td>\n",
       "      <td>0</td>\n",
       "      <td>1</td>\n",
       "      <td>0</td>\n",
       "      <td>1</td>\n",
       "      <td>0</td>\n",
       "      <td>1</td>\n",
       "      <td>0</td>\n",
       "      <td>0</td>\n",
       "      <td>0</td>\n",
       "    </tr>\n",
       "    <tr>\n",
       "      <th>2</th>\n",
       "      <td>0</td>\n",
       "      <td>0</td>\n",
       "      <td>1</td>\n",
       "      <td>0</td>\n",
       "      <td>0</td>\n",
       "      <td>1</td>\n",
       "      <td>0</td>\n",
       "      <td>1</td>\n",
       "      <td>0</td>\n",
       "      <td>0</td>\n",
       "      <td>1</td>\n",
       "    </tr>\n",
       "    <tr>\n",
       "      <th>3</th>\n",
       "      <td>0</td>\n",
       "      <td>0</td>\n",
       "      <td>0</td>\n",
       "      <td>1</td>\n",
       "      <td>0</td>\n",
       "      <td>1</td>\n",
       "      <td>0</td>\n",
       "      <td>0</td>\n",
       "      <td>0</td>\n",
       "      <td>0</td>\n",
       "      <td>1</td>\n",
       "    </tr>\n",
       "    <tr>\n",
       "      <th>4</th>\n",
       "      <td>1</td>\n",
       "      <td>0</td>\n",
       "      <td>0</td>\n",
       "      <td>0</td>\n",
       "      <td>0</td>\n",
       "      <td>1</td>\n",
       "      <td>0</td>\n",
       "      <td>0</td>\n",
       "      <td>0</td>\n",
       "      <td>0</td>\n",
       "      <td>0</td>\n",
       "    </tr>\n",
       "  </tbody>\n",
       "</table>\n",
       "</div>"
      ],
      "text/plain": [
       "   Loan_Purpose_car(new)  Loan_Purpose_car(old)  Loan_Purpose_education  \\\n",
       "0                      0                      0                       0   \n",
       "1                      0                      0                       0   \n",
       "2                      0                      0                       1   \n",
       "3                      0                      0                       0   \n",
       "4                      1                      0                       0   \n",
       "\n",
       "   Loan_Purpose_furniture/appliances  Loan_Purpose_renovations  \\\n",
       "0                                  1                         0   \n",
       "1                                  1                         0   \n",
       "2                                  0                         0   \n",
       "3                                  1                         0   \n",
       "4                                  0                         0   \n",
       "\n",
       "   Other_Installment_Plans_none  Other_Installment_Plans_store  \\\n",
       "0                             1                              0   \n",
       "1                             1                              0   \n",
       "2                             1                              0   \n",
       "3                             1                              0   \n",
       "4                             1                              0   \n",
       "\n",
       "   Housing_Status_own  Housing_Status_rent  Phone_Have_Or_Not_yes  \\\n",
       "0                   1                    0                      1   \n",
       "1                   1                    0                      0   \n",
       "2                   1                    0                      0   \n",
       "3                   0                    0                      0   \n",
       "4                   0                    0                      0   \n",
       "\n",
       "   Credit_Risk_Good Risk  \n",
       "0                      1  \n",
       "1                      0  \n",
       "2                      1  \n",
       "3                      1  \n",
       "4                      0  "
      ]
     },
     "execution_count": 64,
     "metadata": {},
     "output_type": "execute_result"
    }
   ],
   "source": [
    "df_DummyEncode=df_Cat[['Loan_Purpose','Other_Installment_Plans','Housing_Status','Phone_Have_Or_Not','Credit_Risk']]\n",
    "encode_data=pd.get_dummies(data = df_DummyEncode, drop_first=True).reset_index(drop=True)\n",
    "encode_data.head()"
   ]
  },
  {
   "cell_type": "code",
   "execution_count": 65,
   "id": "2d4221eb",
   "metadata": {},
   "outputs": [
    {
     "data": {
      "text/html": [
       "<div>\n",
       "<style scoped>\n",
       "    .dataframe tbody tr th:only-of-type {\n",
       "        vertical-align: middle;\n",
       "    }\n",
       "\n",
       "    .dataframe tbody tr th {\n",
       "        vertical-align: top;\n",
       "    }\n",
       "\n",
       "    .dataframe thead th {\n",
       "        text-align: right;\n",
       "    }\n",
       "</style>\n",
       "<table border=\"1\" class=\"dataframe\">\n",
       "  <thead>\n",
       "    <tr style=\"text-align: right;\">\n",
       "      <th></th>\n",
       "      <th>Loan_Duration_In_Month</th>\n",
       "      <th>Credit_Amount</th>\n",
       "      <th>Age</th>\n",
       "      <th>Checking_Balance</th>\n",
       "      <th>Credit_History</th>\n",
       "      <th>Saving_Account_Balance</th>\n",
       "      <th>Present_Employment_Since</th>\n",
       "      <th>Installment_Rent_In_Percent_Of_Income</th>\n",
       "      <th>Present_Residual_Since</th>\n",
       "      <th>Number_Of_Existing_Loan_Installment</th>\n",
       "      <th>Job</th>\n",
       "      <th>Number_Of_Person_Financially_Depend_to_debtor</th>\n",
       "      <th>Loan_Purpose_car(new)</th>\n",
       "      <th>Loan_Purpose_car(old)</th>\n",
       "      <th>Loan_Purpose_education</th>\n",
       "      <th>Loan_Purpose_furniture/appliances</th>\n",
       "      <th>Loan_Purpose_renovations</th>\n",
       "      <th>Other_Installment_Plans_none</th>\n",
       "      <th>Other_Installment_Plans_store</th>\n",
       "      <th>Housing_Status_own</th>\n",
       "      <th>Housing_Status_rent</th>\n",
       "      <th>Phone_Have_Or_Not_yes</th>\n",
       "      <th>Credit_Risk_Good Risk</th>\n",
       "    </tr>\n",
       "  </thead>\n",
       "  <tbody>\n",
       "    <tr>\n",
       "      <th>0</th>\n",
       "      <td>6</td>\n",
       "      <td>1169</td>\n",
       "      <td>67</td>\n",
       "      <td>1</td>\n",
       "      <td>0</td>\n",
       "      <td>0</td>\n",
       "      <td>4</td>\n",
       "      <td>0</td>\n",
       "      <td>3</td>\n",
       "      <td>1</td>\n",
       "      <td>3</td>\n",
       "      <td>1</td>\n",
       "      <td>0</td>\n",
       "      <td>0</td>\n",
       "      <td>0</td>\n",
       "      <td>1</td>\n",
       "      <td>0</td>\n",
       "      <td>1</td>\n",
       "      <td>0</td>\n",
       "      <td>1</td>\n",
       "      <td>0</td>\n",
       "      <td>1</td>\n",
       "      <td>1</td>\n",
       "    </tr>\n",
       "    <tr>\n",
       "      <th>1</th>\n",
       "      <td>48</td>\n",
       "      <td>5951</td>\n",
       "      <td>22</td>\n",
       "      <td>2</td>\n",
       "      <td>2</td>\n",
       "      <td>1</td>\n",
       "      <td>2</td>\n",
       "      <td>1</td>\n",
       "      <td>1</td>\n",
       "      <td>0</td>\n",
       "      <td>3</td>\n",
       "      <td>1</td>\n",
       "      <td>0</td>\n",
       "      <td>0</td>\n",
       "      <td>0</td>\n",
       "      <td>1</td>\n",
       "      <td>0</td>\n",
       "      <td>1</td>\n",
       "      <td>0</td>\n",
       "      <td>1</td>\n",
       "      <td>0</td>\n",
       "      <td>0</td>\n",
       "      <td>0</td>\n",
       "    </tr>\n",
       "    <tr>\n",
       "      <th>2</th>\n",
       "      <td>12</td>\n",
       "      <td>2096</td>\n",
       "      <td>49</td>\n",
       "      <td>0</td>\n",
       "      <td>0</td>\n",
       "      <td>1</td>\n",
       "      <td>3</td>\n",
       "      <td>1</td>\n",
       "      <td>2</td>\n",
       "      <td>0</td>\n",
       "      <td>1</td>\n",
       "      <td>0</td>\n",
       "      <td>0</td>\n",
       "      <td>0</td>\n",
       "      <td>1</td>\n",
       "      <td>0</td>\n",
       "      <td>0</td>\n",
       "      <td>1</td>\n",
       "      <td>0</td>\n",
       "      <td>1</td>\n",
       "      <td>0</td>\n",
       "      <td>0</td>\n",
       "      <td>1</td>\n",
       "    </tr>\n",
       "    <tr>\n",
       "      <th>3</th>\n",
       "      <td>42</td>\n",
       "      <td>7882</td>\n",
       "      <td>45</td>\n",
       "      <td>1</td>\n",
       "      <td>2</td>\n",
       "      <td>1</td>\n",
       "      <td>3</td>\n",
       "      <td>1</td>\n",
       "      <td>3</td>\n",
       "      <td>0</td>\n",
       "      <td>3</td>\n",
       "      <td>0</td>\n",
       "      <td>0</td>\n",
       "      <td>0</td>\n",
       "      <td>0</td>\n",
       "      <td>1</td>\n",
       "      <td>0</td>\n",
       "      <td>1</td>\n",
       "      <td>0</td>\n",
       "      <td>0</td>\n",
       "      <td>0</td>\n",
       "      <td>0</td>\n",
       "      <td>1</td>\n",
       "    </tr>\n",
       "    <tr>\n",
       "      <th>4</th>\n",
       "      <td>24</td>\n",
       "      <td>4870</td>\n",
       "      <td>53</td>\n",
       "      <td>1</td>\n",
       "      <td>1</td>\n",
       "      <td>1</td>\n",
       "      <td>2</td>\n",
       "      <td>2</td>\n",
       "      <td>3</td>\n",
       "      <td>1</td>\n",
       "      <td>3</td>\n",
       "      <td>0</td>\n",
       "      <td>1</td>\n",
       "      <td>0</td>\n",
       "      <td>0</td>\n",
       "      <td>0</td>\n",
       "      <td>0</td>\n",
       "      <td>1</td>\n",
       "      <td>0</td>\n",
       "      <td>0</td>\n",
       "      <td>0</td>\n",
       "      <td>0</td>\n",
       "      <td>0</td>\n",
       "    </tr>\n",
       "  </tbody>\n",
       "</table>\n",
       "</div>"
      ],
      "text/plain": [
       "   Loan_Duration_In_Month  Credit_Amount  Age  Checking_Balance  \\\n",
       "0                       6           1169   67                 1   \n",
       "1                      48           5951   22                 2   \n",
       "2                      12           2096   49                 0   \n",
       "3                      42           7882   45                 1   \n",
       "4                      24           4870   53                 1   \n",
       "\n",
       "   Credit_History  Saving_Account_Balance  Present_Employment_Since  \\\n",
       "0               0                       0                         4   \n",
       "1               2                       1                         2   \n",
       "2               0                       1                         3   \n",
       "3               2                       1                         3   \n",
       "4               1                       1                         2   \n",
       "\n",
       "   Installment_Rent_In_Percent_Of_Income  Present_Residual_Since  \\\n",
       "0                                      0                       3   \n",
       "1                                      1                       1   \n",
       "2                                      1                       2   \n",
       "3                                      1                       3   \n",
       "4                                      2                       3   \n",
       "\n",
       "   Number_Of_Existing_Loan_Installment  Job  \\\n",
       "0                                    1    3   \n",
       "1                                    0    3   \n",
       "2                                    0    1   \n",
       "3                                    0    3   \n",
       "4                                    1    3   \n",
       "\n",
       "   Number_Of_Person_Financially_Depend_to_debtor  Loan_Purpose_car(new)  \\\n",
       "0                                              1                      0   \n",
       "1                                              1                      0   \n",
       "2                                              0                      0   \n",
       "3                                              0                      0   \n",
       "4                                              0                      1   \n",
       "\n",
       "   Loan_Purpose_car(old)  Loan_Purpose_education  \\\n",
       "0                      0                       0   \n",
       "1                      0                       0   \n",
       "2                      0                       1   \n",
       "3                      0                       0   \n",
       "4                      0                       0   \n",
       "\n",
       "   Loan_Purpose_furniture/appliances  Loan_Purpose_renovations  \\\n",
       "0                                  1                         0   \n",
       "1                                  1                         0   \n",
       "2                                  0                         0   \n",
       "3                                  1                         0   \n",
       "4                                  0                         0   \n",
       "\n",
       "   Other_Installment_Plans_none  Other_Installment_Plans_store  \\\n",
       "0                             1                              0   \n",
       "1                             1                              0   \n",
       "2                             1                              0   \n",
       "3                             1                              0   \n",
       "4                             1                              0   \n",
       "\n",
       "   Housing_Status_own  Housing_Status_rent  Phone_Have_Or_Not_yes  \\\n",
       "0                   1                    0                      1   \n",
       "1                   1                    0                      0   \n",
       "2                   1                    0                      0   \n",
       "3                   0                    0                      0   \n",
       "4                   0                    0                      0   \n",
       "\n",
       "   Credit_Risk_Good Risk  \n",
       "0                      1  \n",
       "1                      0  \n",
       "2                      1  \n",
       "3                      1  \n",
       "4                      0  "
      ]
     },
     "execution_count": 65,
     "metadata": {},
     "output_type": "execute_result"
    }
   ],
   "source": [
    "#concat all data\n",
    "df_concat=pd.concat([df_num,df_LabelEncode,encode_data],axis=1)\n",
    "df_concat.reset_index(drop=True)\n",
    "df_concat.head()"
   ]
  },
  {
   "cell_type": "code",
   "execution_count": 66,
   "id": "97f12246",
   "metadata": {},
   "outputs": [],
   "source": [
    "#drop target variable\n",
    "df_target=df_concat['Credit_Risk_Good Risk']\n",
    "df_concat=df_concat.drop('Credit_Risk_Good Risk',axis=1)"
   ]
  },
  {
   "cell_type": "code",
   "execution_count": 67,
   "id": "06c30ad6",
   "metadata": {},
   "outputs": [
    {
     "data": {
      "text/plain": [
       "Loan_Duration_In_Month                           0\n",
       "Credit_Amount                                    0\n",
       "Age                                              0\n",
       "Checking_Balance                                 0\n",
       "Credit_History                                   0\n",
       "Saving_Account_Balance                           0\n",
       "Present_Employment_Since                         0\n",
       "Installment_Rent_In_Percent_Of_Income            0\n",
       "Present_Residual_Since                           0\n",
       "Number_Of_Existing_Loan_Installment              0\n",
       "Job                                              0\n",
       "Number_Of_Person_Financially_Depend_to_debtor    0\n",
       "Loan_Purpose_car(new)                            0\n",
       "Loan_Purpose_car(old)                            0\n",
       "Loan_Purpose_education                           0\n",
       "Loan_Purpose_furniture/appliances                0\n",
       "Loan_Purpose_renovations                         0\n",
       "Other_Installment_Plans_none                     0\n",
       "Other_Installment_Plans_store                    0\n",
       "Housing_Status_own                               0\n",
       "Housing_Status_rent                              0\n",
       "Phone_Have_Or_Not_yes                            0\n",
       "dtype: int64"
      ]
     },
     "execution_count": 67,
     "metadata": {},
     "output_type": "execute_result"
    }
   ],
   "source": [
    "df_concat.isnull().sum()"
   ]
  },
  {
   "cell_type": "markdown",
   "id": "1a96c05b",
   "metadata": {},
   "source": [
    "# Train Test Split"
   ]
  },
  {
   "cell_type": "code",
   "execution_count": 68,
   "id": "f707dfbb",
   "metadata": {},
   "outputs": [
    {
     "name": "stdout",
     "output_type": "stream",
     "text": [
      "X_train_full (700, 23)\n",
      "y_train_full (700,)\n",
      "X_test_full (300, 23)\n",
      "y_test_full (300,)\n"
     ]
    }
   ],
   "source": [
    "import statsmodels.api as sm\n",
    "from sklearn.model_selection import train_test_split\n",
    "\n",
    "X_full = df_concat.copy()\n",
    "y_full = df_target.copy()\n",
    "\n",
    "X_full = sm.add_constant(X_full)\n",
    "\n",
    "X_train_full, X_test_full, y_train_full, y_test_full = train_test_split(X_full,y_full, random_state=1, test_size = 0.3)\n",
    "\n",
    "print('X_train_full', X_train_full.shape)\n",
    "print('y_train_full', y_train_full.shape)\n",
    "\n",
    "print('X_test_full', X_test_full.shape)\n",
    "print('y_test_full', y_test_full.shape)"
   ]
  },
  {
   "cell_type": "markdown",
   "id": "5d26632e",
   "metadata": {},
   "source": [
    "# Make Base Model"
   ]
  },
  {
   "cell_type": "code",
   "execution_count": 69,
   "id": "5e3d3b5b",
   "metadata": {},
   "outputs": [],
   "source": [
    "from sklearn.tree import DecisionTreeClassifier\n",
    "desicion_tree=DecisionTreeClassifier(criterion='entropy',random_state=10)\n",
    "decision_model=desicion_tree.fit(X_train_full,y_train_full)"
   ]
  },
  {
   "cell_type": "code",
   "execution_count": 70,
   "id": "8c978307",
   "metadata": {},
   "outputs": [],
   "source": [
    "predict_train=decision_model.predict(X_train_full)\n",
    "#predict_train\n",
    "predict_test=decision_model.predict(X_test_full)\n",
    "#predict_test"
   ]
  },
  {
   "cell_type": "code",
   "execution_count": 71,
   "id": "a9c0d222",
   "metadata": {},
   "outputs": [
    {
     "data": {
      "text/plain": [
       "array([[214,   0],\n",
       "       [  0, 486]], dtype=int64)"
      ]
     },
     "execution_count": 71,
     "metadata": {},
     "output_type": "execute_result"
    }
   ],
   "source": [
    "from sklearn.metrics import confusion_matrix\n",
    "confusion_matrix(y_train_full,predict_train)"
   ]
  },
  {
   "cell_type": "code",
   "execution_count": 72,
   "id": "1d26b897",
   "metadata": {},
   "outputs": [
    {
     "data": {
      "text/plain": [
       "array([[ 38,  48],\n",
       "       [ 52, 162]], dtype=int64)"
      ]
     },
     "execution_count": 72,
     "metadata": {},
     "output_type": "execute_result"
    }
   ],
   "source": [
    "confusion_matrix(y_test_full,predict_test)"
   ]
  },
  {
   "cell_type": "code",
   "execution_count": 73,
   "id": "8530ab82",
   "metadata": {},
   "outputs": [
    {
     "name": "stdout",
     "output_type": "stream",
     "text": [
      "              precision    recall  f1-score   support\n",
      "\n",
      "           0       1.00      1.00      1.00       214\n",
      "           1       1.00      1.00      1.00       486\n",
      "\n",
      "    accuracy                           1.00       700\n",
      "   macro avg       1.00      1.00      1.00       700\n",
      "weighted avg       1.00      1.00      1.00       700\n",
      "\n"
     ]
    }
   ],
   "source": [
    "from sklearn.metrics import classification_report\n",
    "print(classification_report(y_train_full,predict_train))"
   ]
  },
  {
   "cell_type": "code",
   "execution_count": 74,
   "id": "d555f53c",
   "metadata": {},
   "outputs": [
    {
     "name": "stdout",
     "output_type": "stream",
     "text": [
      "              precision    recall  f1-score   support\n",
      "\n",
      "           0       0.42      0.44      0.43        86\n",
      "           1       0.77      0.76      0.76       214\n",
      "\n",
      "    accuracy                           0.67       300\n",
      "   macro avg       0.60      0.60      0.60       300\n",
      "weighted avg       0.67      0.67      0.67       300\n",
      "\n"
     ]
    }
   ],
   "source": [
    "print(classification_report(y_test_full,predict_test))"
   ]
  },
  {
   "cell_type": "code",
   "execution_count": null,
   "id": "542b7d38",
   "metadata": {},
   "outputs": [],
   "source": [
    "# here we see that in train data model accuracy is 1 and test data model accuracy is 0.67 i.e model face overfitting prb\n",
    "# so we use grid search cv"
   ]
  },
  {
   "cell_type": "code",
   "execution_count": 75,
   "id": "cc582b36",
   "metadata": {},
   "outputs": [],
   "source": [
    "tuned_parameter=[{'criterion':['entropy','gini'],\n",
    "                 'max_depth':range(2,10),\n",
    "                  'max_features':['sqrt','log2'],\n",
    "                 'min_samples_split':range(2,10),\n",
    "                 'min_samples_leaf':range(1,10),\n",
    "                 'max_leaf_nodes':range(1,10)}]\n",
    "decision=DecisionTreeClassifier(random_state=10)"
   ]
  },
  {
   "cell_type": "code",
   "execution_count": 76,
   "id": "aa48a6e0",
   "metadata": {},
   "outputs": [],
   "source": [
    "from sklearn.model_selection import GridSearchCV\n",
    "tree_grid=GridSearchCV(estimator=decision,param_grid=tuned_parameter,cv=5)"
   ]
  },
  {
   "cell_type": "code",
   "execution_count": 77,
   "id": "afafd118",
   "metadata": {},
   "outputs": [],
   "source": [
    "tree_grid_model=tree_grid.fit(X_train_full,y_train_full)"
   ]
  },
  {
   "cell_type": "code",
   "execution_count": 78,
   "id": "10f8b581",
   "metadata": {},
   "outputs": [
    {
     "name": "stdout",
     "output_type": "stream",
     "text": [
      "{'criterion': 'gini', 'max_depth': 3, 'max_features': 'sqrt', 'max_leaf_nodes': 8, 'min_samples_leaf': 1, 'min_samples_split': 2}\n"
     ]
    }
   ],
   "source": [
    "print(tree_grid_model.best_params_)"
   ]
  },
  {
   "cell_type": "markdown",
   "id": "efb3072b",
   "metadata": {},
   "source": [
    "# Final Model"
   ]
  },
  {
   "cell_type": "code",
   "execution_count": 24,
   "id": "889bc3ef",
   "metadata": {},
   "outputs": [],
   "source": [
    "dt3=DecisionTreeClassifier(criterion='gini', max_depth= 3, max_features='sqrt', \n",
    "                           max_leaf_nodes= 8, min_samples_leaf= 1, min_samples_split= 2)"
   ]
  },
  {
   "cell_type": "code",
   "execution_count": 26,
   "id": "f8d01f1f",
   "metadata": {},
   "outputs": [],
   "source": [
    "dt=dt3.fit(X_train_full,y_train_full)"
   ]
  },
  {
   "cell_type": "code",
   "execution_count": 27,
   "id": "a713b165",
   "metadata": {},
   "outputs": [
    {
     "data": {
      "text/plain": [
       "(300,)"
      ]
     },
     "execution_count": 27,
     "metadata": {},
     "output_type": "execute_result"
    }
   ],
   "source": [
    "predict1_train=dt.predict(X_train_full)\n",
    "predict1_train.shape\n",
    "predict1_test=dt.predict(X_test_full)\n",
    "predict1_test.shape"
   ]
  },
  {
   "cell_type": "code",
   "execution_count": 28,
   "id": "0a9ae9c3",
   "metadata": {},
   "outputs": [
    {
     "name": "stdout",
     "output_type": "stream",
     "text": [
      "              precision    recall  f1-score   support\n",
      "\n",
      "           0       0.55      0.10      0.17       214\n",
      "           1       0.71      0.96      0.82       486\n",
      "\n",
      "    accuracy                           0.70       700\n",
      "   macro avg       0.63      0.53      0.49       700\n",
      "weighted avg       0.66      0.70      0.62       700\n",
      "\n"
     ]
    }
   ],
   "source": [
    "from sklearn.metrics import classification_report\n",
    "print(classification_report(y_train_full,predict1_train))"
   ]
  },
  {
   "cell_type": "code",
   "execution_count": 29,
   "id": "fbcbcc9b",
   "metadata": {},
   "outputs": [
    {
     "name": "stdout",
     "output_type": "stream",
     "text": [
      "              precision    recall  f1-score   support\n",
      "\n",
      "           0       0.42      0.09      0.15        86\n",
      "           1       0.72      0.95      0.82       214\n",
      "\n",
      "    accuracy                           0.70       300\n",
      "   macro avg       0.57      0.52      0.49       300\n",
      "weighted avg       0.64      0.70      0.63       300\n",
      "\n"
     ]
    }
   ],
   "source": [
    "print(classification_report(y_test_full,predict1_test))"
   ]
  },
  {
   "cell_type": "markdown",
   "id": "b7a45d64",
   "metadata": {},
   "source": [
    "**Interpretation:**After GridSearchCV overfitting problem is remove and get 70% acuuracy."
   ]
  },
  {
   "cell_type": "markdown",
   "id": "179857e6",
   "metadata": {},
   "source": [
    "# Random Forest"
   ]
  },
  {
   "cell_type": "code",
   "execution_count": 79,
   "id": "a5063eab",
   "metadata": {},
   "outputs": [],
   "source": [
    "from sklearn.ensemble import RandomForestClassifier\n",
    "rf_classification=RandomForestClassifier(n_estimators=10,random_state=10)\n",
    "rf_model_train=rf_classification.fit(X_train_full,y_train_full)"
   ]
  },
  {
   "cell_type": "code",
   "execution_count": 80,
   "id": "a928b3ab",
   "metadata": {},
   "outputs": [],
   "source": [
    "rf_model_test=rf_classification.fit(X_test_full,y_test_full)"
   ]
  },
  {
   "cell_type": "code",
   "execution_count": 82,
   "id": "ac2ac049",
   "metadata": {},
   "outputs": [],
   "source": [
    "predict_rf_train=rf_model_train.predict(X_train_full)\n",
    "predict_rf_test=rf_model_test.predict(X_test_full)"
   ]
  },
  {
   "cell_type": "code",
   "execution_count": 83,
   "id": "19e791c2",
   "metadata": {},
   "outputs": [
    {
     "name": "stdout",
     "output_type": "stream",
     "text": [
      "              precision    recall  f1-score   support\n",
      "\n",
      "           0       0.48      0.39      0.43       214\n",
      "           1       0.75      0.81      0.78       486\n",
      "\n",
      "    accuracy                           0.69       700\n",
      "   macro avg       0.62      0.60      0.61       700\n",
      "weighted avg       0.67      0.69      0.68       700\n",
      "\n"
     ]
    }
   ],
   "source": [
    "print(classification_report(y_train_full,predict_rf_train))"
   ]
  },
  {
   "cell_type": "code",
   "execution_count": 84,
   "id": "166d654e",
   "metadata": {},
   "outputs": [
    {
     "name": "stdout",
     "output_type": "stream",
     "text": [
      "              precision    recall  f1-score   support\n",
      "\n",
      "           0       1.00      1.00      1.00        86\n",
      "           1       1.00      1.00      1.00       214\n",
      "\n",
      "    accuracy                           1.00       300\n",
      "   macro avg       1.00      1.00      1.00       300\n",
      "weighted avg       1.00      1.00      1.00       300\n",
      "\n"
     ]
    }
   ],
   "source": [
    "print(classification_report(y_test_full,predict_rf_test))"
   ]
  },
  {
   "cell_type": "code",
   "execution_count": 85,
   "id": "8bde8217",
   "metadata": {},
   "outputs": [],
   "source": [
    "tuned_params=[{'criterion':['entopy','gini'],'max_depth':[10,20,30],\n",
    "               'max_features':['log2','sqrt'],'min_samples_split':[2,5,8,11],\n",
    "               'min_samples_leaf':[1,5,9],'n_estimators':[10,30,50,70]}]\n",
    "rfc=RandomForestClassifier(random_state=10)"
   ]
  },
  {
   "cell_type": "code",
   "execution_count": 86,
   "id": "00cc6591",
   "metadata": {},
   "outputs": [],
   "source": [
    "from sklearn.model_selection import GridSearchCV\n",
    "rf_grid=GridSearchCV(estimator=rfc,param_grid=tuned_params,cv=5)\n",
    "tree_grid_model=rf_grid.fit(X_train_full,y_train_full)"
   ]
  },
  {
   "cell_type": "code",
   "execution_count": 87,
   "id": "12373abc",
   "metadata": {},
   "outputs": [
    {
     "name": "stdout",
     "output_type": "stream",
     "text": [
      "{'criterion': 'gini', 'max_depth': 20, 'max_features': 'log2', 'min_samples_leaf': 1, 'min_samples_split': 11, 'n_estimators': 30}\n"
     ]
    }
   ],
   "source": [
    "print(tree_grid_model.best_params_)"
   ]
  },
  {
   "cell_type": "code",
   "execution_count": 88,
   "id": "0409161b",
   "metadata": {},
   "outputs": [],
   "source": [
    "dt3=RandomForestClassifier(criterion='gini', max_depth= 20, max_features='log2', \n",
    "                          min_samples_leaf= 1, min_samples_split= 11,n_estimators=30)\n",
    "rf_model_new=dt3.fit(X_train_full,y_train_full)"
   ]
  },
  {
   "cell_type": "code",
   "execution_count": 89,
   "id": "76588c2c",
   "metadata": {},
   "outputs": [
    {
     "data": {
      "text/plain": [
       "(300,)"
      ]
     },
     "execution_count": 89,
     "metadata": {},
     "output_type": "execute_result"
    }
   ],
   "source": [
    "predict1_train=rf_model_new.predict(X_train_full)\n",
    "predict1_train.shape\n",
    "\n",
    "predict1_test=rf_model_new.predict(X_test_full)\n",
    "predict1_test.shape"
   ]
  },
  {
   "cell_type": "code",
   "execution_count": 90,
   "id": "836bc477",
   "metadata": {},
   "outputs": [
    {
     "name": "stdout",
     "output_type": "stream",
     "text": [
      "              precision    recall  f1-score   support\n",
      "\n",
      "           0       0.98      0.76      0.86       214\n",
      "           1       0.90      0.99      0.95       486\n",
      "\n",
      "    accuracy                           0.92       700\n",
      "   macro avg       0.94      0.88      0.90       700\n",
      "weighted avg       0.93      0.92      0.92       700\n",
      "\n"
     ]
    }
   ],
   "source": [
    "from sklearn.metrics import classification_report\n",
    "print(classification_report(y_train_full,predict1_train))"
   ]
  },
  {
   "cell_type": "code",
   "execution_count": 91,
   "id": "04a7313d",
   "metadata": {},
   "outputs": [
    {
     "name": "stdout",
     "output_type": "stream",
     "text": [
      "              precision    recall  f1-score   support\n",
      "\n",
      "           0       0.67      0.28      0.39        86\n",
      "           1       0.77      0.94      0.85       214\n",
      "\n",
      "    accuracy                           0.75       300\n",
      "   macro avg       0.72      0.61      0.62       300\n",
      "weighted avg       0.74      0.75      0.72       300\n",
      "\n"
     ]
    }
   ],
   "source": [
    "print(classification_report(y_test_full,predict1_test))"
   ]
  }
 ],
 "metadata": {
  "kernelspec": {
   "display_name": "Python 3 (ipykernel)",
   "language": "python",
   "name": "python3"
  },
  "language_info": {
   "codemirror_mode": {
    "name": "ipython",
    "version": 3
   },
   "file_extension": ".py",
   "mimetype": "text/x-python",
   "name": "python",
   "nbconvert_exporter": "python",
   "pygments_lexer": "ipython3",
   "version": "3.9.8"
  }
 },
 "nbformat": 4,
 "nbformat_minor": 5
}
